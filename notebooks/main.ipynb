{
 "cells": [
  {
   "cell_type": "code",
   "execution_count": 1,
   "metadata": {},
   "outputs": [],
   "source": [
    "import gradio as gr\n",
    "import json\n",
    "import matplotlib.pyplot as plt\n",
    "import pandas as pd\n",
    "import polars as pl\n",
    "import seaborn as sns\n",
    "import sys\n",
    "\n",
    "# Sets Current Directory to Parent Path\n",
    "sys.path.insert(0, '..')\n",
    "\n",
    "from sklearn.ensemble import RandomForestClassifier\n",
    "from sklearn.impute import SimpleImputer\n",
    "from sklearn.metrics import accuracy_score, confusion_matrix\n",
    "from sklearn.model_selection import train_test_split\n",
    "from sklearn.preprocessing import LabelEncoder\n",
    "from src.utils.main import download_dataset, convert_dataset"
   ]
  },
  {
   "cell_type": "code",
   "execution_count": 2,
   "metadata": {},
   "outputs": [],
   "source": [
    "DATASET_URL = 'https://github.com/yaleemmlc/admissionprediction/raw/master/Results/5v_cleandf.RData'\n",
    "FILE_PATH = '../data'\n",
    "FILE_NAME = 'Results.rdata'\n",
    "\n",
    "# Downloads the Original Dataset (RData File)\n",
    "DATASET_RDATA_PATH = download_dataset(DATASET_URL, FILE_PATH, FILE_NAME)\n",
    "\n",
    "# Converts the RData File to a New CSV File\n",
    "DATASET_CSV_PATH = convert_dataset(DATASET_RDATA_PATH, DATASET_RDATA_PATH.replace('.rdata', '.csv'))"
   ]
  },
  {
   "cell_type": "code",
   "execution_count": 3,
   "metadata": {},
   "outputs": [
    {
     "data": {
      "text/html": [
       "<div><style>\n",
       ".dataframe > thead > tr,\n",
       ".dataframe > tbody > tr {\n",
       "  text-align: right;\n",
       "  white-space: pre-wrap;\n",
       "}\n",
       "</style>\n",
       "<small>shape: (5, 973)</small><table border=\"1\" class=\"dataframe\"><thead><tr><th></th><th>dep_name</th><th>esi</th><th>age</th><th>gender</th><th>ethnicity</th><th>race</th><th>lang</th><th>religion</th><th>maritalstatus</th><th>employstatus</th><th>insurance_status</th><th>disposition</th><th>arrivalmode</th><th>arrivalmonth</th><th>arrivalday</th><th>arrivalhour_bin</th><th>previousdispo</th><th>2ndarymalig</th><th>abdomhernia</th><th>abdomnlpain</th><th>abortcompl</th><th>acqfootdef</th><th>acrenlfail</th><th>acutecvd</th><th>acutemi</th><th>acutphanm</th><th>adjustmentdisorders</th><th>adltrespfl</th><th>alcoholrelateddisorders</th><th>allergy</th><th>amniosdx</th><th>analrectal</th><th>anemia</th><th>aneurysm</th><th>anxietydisorders</th><th>appendicitis</th><th>&hellip;</th><th>cc_shortnessofbreath</th><th>cc_shoulderinjury</th><th>cc_shoulderpain</th><th>cc_sicklecellpain</th><th>cc_sinusproblem</th><th>cc_skinirritation</th><th>cc_skinproblem</th><th>cc_sorethroat</th><th>cc_stdcheck</th><th>cc_strokealert</th><th>cc_suicidal</th><th>cc_suture/stapleremoval</th><th>cc_swallowedforeignbody</th><th>cc_syncope</th><th>cc_tachycardia</th><th>cc_testiclepain</th><th>cc_thumbinjury</th><th>cc_tickremoval</th><th>cc_toeinjury</th><th>cc_toepain</th><th>cc_trauma</th><th>cc_unresponsive</th><th>cc_uri</th><th>cc_urinaryfrequency</th><th>cc_urinaryretention</th><th>cc_urinarytractinfection</th><th>cc_vaginalbleeding</th><th>cc_vaginaldischarge</th><th>cc_vaginalpain</th><th>cc_weakness</th><th>cc_wheezing</th><th>cc_withdrawal-alcohol</th><th>cc_woundcheck</th><th>cc_woundinfection</th><th>cc_woundre-evaluation</th><th>cc_wristinjury</th><th>cc_wristpain</th></tr><tr><td>i64</td><td>str</td><td>i64</td><td>i64</td><td>str</td><td>str</td><td>str</td><td>str</td><td>str</td><td>str</td><td>str</td><td>str</td><td>str</td><td>str</td><td>str</td><td>str</td><td>str</td><td>str</td><td>f64</td><td>f64</td><td>f64</td><td>f64</td><td>f64</td><td>f64</td><td>f64</td><td>f64</td><td>f64</td><td>f64</td><td>f64</td><td>f64</td><td>f64</td><td>f64</td><td>f64</td><td>f64</td><td>f64</td><td>f64</td><td>f64</td><td>&hellip;</td><td>i64</td><td>i64</td><td>i64</td><td>i64</td><td>i64</td><td>i64</td><td>i64</td><td>i64</td><td>i64</td><td>i64</td><td>i64</td><td>i64</td><td>i64</td><td>i64</td><td>i64</td><td>i64</td><td>i64</td><td>i64</td><td>i64</td><td>i64</td><td>i64</td><td>i64</td><td>i64</td><td>i64</td><td>i64</td><td>i64</td><td>i64</td><td>i64</td><td>i64</td><td>i64</td><td>i64</td><td>i64</td><td>i64</td><td>i64</td><td>i64</td><td>i64</td><td>i64</td></tr></thead><tbody><tr><td>0</td><td>&quot;B&quot;</td><td>4</td><td>40</td><td>&quot;Male&quot;</td><td>&quot;Hispanic or La…</td><td>&quot;White or Cauca…</td><td>&quot;English&quot;</td><td>&quot;None&quot;</td><td>&quot;Single&quot;</td><td>&quot;Full Time&quot;</td><td>&quot;Other&quot;</td><td>&quot;Discharge&quot;</td><td>&quot;Walk-in&quot;</td><td>&quot;June&quot;</td><td>&quot;Tuesday&quot;</td><td>&quot;23-02&quot;</td><td>&quot;No previous di…</td><td>0.0</td><td>0.0</td><td>0.0</td><td>0.0</td><td>0.0</td><td>0.0</td><td>0.0</td><td>0.0</td><td>0.0</td><td>0.0</td><td>0.0</td><td>0.0</td><td>0.0</td><td>0.0</td><td>0.0</td><td>0.0</td><td>0.0</td><td>0.0</td><td>0.0</td><td>&hellip;</td><td>0</td><td>0</td><td>0</td><td>0</td><td>0</td><td>0</td><td>0</td><td>0</td><td>0</td><td>0</td><td>0</td><td>0</td><td>0</td><td>0</td><td>0</td><td>0</td><td>0</td><td>0</td><td>0</td><td>0</td><td>0</td><td>0</td><td>0</td><td>0</td><td>0</td><td>0</td><td>0</td><td>0</td><td>0</td><td>0</td><td>0</td><td>0</td><td>0</td><td>0</td><td>0</td><td>0</td><td>0</td></tr><tr><td>1</td><td>&quot;B&quot;</td><td>4</td><td>66</td><td>&quot;Male&quot;</td><td>&quot;Hispanic or La…</td><td>&quot;Native Hawaiia…</td><td>&quot;English&quot;</td><td>&quot;Pentecostal&quot;</td><td>&quot;Married&quot;</td><td>&quot;Not Employed&quot;</td><td>&quot;Commercial&quot;</td><td>&quot;Discharge&quot;</td><td>&quot;Car&quot;</td><td>&quot;January&quot;</td><td>&quot;Tuesday&quot;</td><td>&quot;15-18&quot;</td><td>&quot;No previous di…</td><td>0.0</td><td>0.0</td><td>0.0</td><td>0.0</td><td>0.0</td><td>0.0</td><td>0.0</td><td>0.0</td><td>0.0</td><td>0.0</td><td>0.0</td><td>0.0</td><td>0.0</td><td>0.0</td><td>0.0</td><td>0.0</td><td>0.0</td><td>0.0</td><td>0.0</td><td>&hellip;</td><td>0</td><td>0</td><td>0</td><td>0</td><td>0</td><td>0</td><td>0</td><td>0</td><td>0</td><td>0</td><td>0</td><td>0</td><td>0</td><td>0</td><td>0</td><td>0</td><td>0</td><td>0</td><td>0</td><td>0</td><td>0</td><td>0</td><td>0</td><td>0</td><td>0</td><td>0</td><td>0</td><td>0</td><td>0</td><td>0</td><td>0</td><td>0</td><td>0</td><td>0</td><td>0</td><td>0</td><td>0</td></tr><tr><td>2</td><td>&quot;B&quot;</td><td>2</td><td>66</td><td>&quot;Male&quot;</td><td>&quot;Hispanic or La…</td><td>&quot;Native Hawaiia…</td><td>&quot;English&quot;</td><td>&quot;Pentecostal&quot;</td><td>&quot;Married&quot;</td><td>&quot;Not Employed&quot;</td><td>&quot;Commercial&quot;</td><td>&quot;Discharge&quot;</td><td>&quot;Walk-in&quot;</td><td>&quot;July&quot;</td><td>&quot;Thursday&quot;</td><td>&quot;11-14&quot;</td><td>&quot;Discharge&quot;</td><td>0.0</td><td>0.0</td><td>0.0</td><td>0.0</td><td>0.0</td><td>0.0</td><td>0.0</td><td>0.0</td><td>0.0</td><td>0.0</td><td>0.0</td><td>0.0</td><td>0.0</td><td>0.0</td><td>0.0</td><td>0.0</td><td>0.0</td><td>0.0</td><td>0.0</td><td>&hellip;</td><td>0</td><td>0</td><td>0</td><td>0</td><td>0</td><td>0</td><td>0</td><td>0</td><td>0</td><td>0</td><td>0</td><td>0</td><td>0</td><td>0</td><td>0</td><td>0</td><td>0</td><td>0</td><td>0</td><td>0</td><td>0</td><td>0</td><td>0</td><td>0</td><td>0</td><td>0</td><td>0</td><td>0</td><td>0</td><td>0</td><td>0</td><td>0</td><td>0</td><td>0</td><td>0</td><td>0</td><td>0</td></tr><tr><td>3</td><td>&quot;A&quot;</td><td>2</td><td>66</td><td>&quot;Male&quot;</td><td>&quot;Hispanic or La…</td><td>&quot;Native Hawaiia…</td><td>&quot;English&quot;</td><td>&quot;Pentecostal&quot;</td><td>&quot;Married&quot;</td><td>&quot;Not Employed&quot;</td><td>&quot;Commercial&quot;</td><td>&quot;Discharge&quot;</td><td>&quot;Car&quot;</td><td>&quot;July&quot;</td><td>&quot;Saturday&quot;</td><td>&quot;11-14&quot;</td><td>&quot;Discharge&quot;</td><td>0.0</td><td>0.0</td><td>0.0</td><td>0.0</td><td>0.0</td><td>0.0</td><td>0.0</td><td>0.0</td><td>0.0</td><td>0.0</td><td>0.0</td><td>0.0</td><td>0.0</td><td>0.0</td><td>0.0</td><td>0.0</td><td>0.0</td><td>0.0</td><td>0.0</td><td>&hellip;</td><td>0</td><td>0</td><td>0</td><td>0</td><td>0</td><td>0</td><td>0</td><td>0</td><td>0</td><td>0</td><td>0</td><td>0</td><td>0</td><td>0</td><td>0</td><td>0</td><td>0</td><td>0</td><td>0</td><td>0</td><td>0</td><td>0</td><td>0</td><td>0</td><td>0</td><td>0</td><td>0</td><td>0</td><td>0</td><td>0</td><td>0</td><td>0</td><td>0</td><td>0</td><td>0</td><td>0</td><td>0</td></tr><tr><td>4</td><td>&quot;A&quot;</td><td>3</td><td>84</td><td>&quot;Female&quot;</td><td>&quot;Hispanic or La…</td><td>&quot;Other&quot;</td><td>&quot;Other&quot;</td><td>&quot;Pentecostal&quot;</td><td>&quot;Widowed&quot;</td><td>&quot;Retired&quot;</td><td>&quot;Medicare&quot;</td><td>&quot;Admit&quot;</td><td>&quot;Walk-in&quot;</td><td>&quot;November&quot;</td><td>&quot;Tuesday&quot;</td><td>&quot;07-10&quot;</td><td>&quot;Discharge&quot;</td><td>0.0</td><td>0.0</td><td>0.0</td><td>0.0</td><td>0.0</td><td>0.0</td><td>0.0</td><td>0.0</td><td>0.0</td><td>0.0</td><td>0.0</td><td>0.0</td><td>0.0</td><td>0.0</td><td>0.0</td><td>0.0</td><td>0.0</td><td>0.0</td><td>0.0</td><td>&hellip;</td><td>0</td><td>0</td><td>0</td><td>0</td><td>0</td><td>0</td><td>0</td><td>0</td><td>0</td><td>0</td><td>0</td><td>0</td><td>0</td><td>0</td><td>0</td><td>0</td><td>0</td><td>0</td><td>0</td><td>0</td><td>0</td><td>0</td><td>0</td><td>0</td><td>0</td><td>0</td><td>0</td><td>0</td><td>0</td><td>0</td><td>0</td><td>0</td><td>0</td><td>0</td><td>0</td><td>0</td><td>0</td></tr></tbody></table></div>"
      ],
      "text/plain": [
       "shape: (5, 973)\n",
       "┌─────┬──────────┬─────┬─────┬───┬────────────────┬────────────────┬────────────────┬──────────────┐\n",
       "│     ┆ dep_name ┆ esi ┆ age ┆ … ┆ cc_woundinfect ┆ cc_woundre-eva ┆ cc_wristinjury ┆ cc_wristpain │\n",
       "│ --- ┆ ---      ┆ --- ┆ --- ┆   ┆ ion            ┆ luation        ┆ ---            ┆ ---          │\n",
       "│ i64 ┆ str      ┆ i64 ┆ i64 ┆   ┆ ---            ┆ ---            ┆ i64            ┆ i64          │\n",
       "│     ┆          ┆     ┆     ┆   ┆ i64            ┆ i64            ┆                ┆              │\n",
       "╞═════╪══════════╪═════╪═════╪═══╪════════════════╪════════════════╪════════════════╪══════════════╡\n",
       "│ 0   ┆ B        ┆ 4   ┆ 40  ┆ … ┆ 0              ┆ 0              ┆ 0              ┆ 0            │\n",
       "│ 1   ┆ B        ┆ 4   ┆ 66  ┆ … ┆ 0              ┆ 0              ┆ 0              ┆ 0            │\n",
       "│ 2   ┆ B        ┆ 2   ┆ 66  ┆ … ┆ 0              ┆ 0              ┆ 0              ┆ 0            │\n",
       "│ 3   ┆ A        ┆ 2   ┆ 66  ┆ … ┆ 0              ┆ 0              ┆ 0              ┆ 0            │\n",
       "│ 4   ┆ A        ┆ 3   ┆ 84  ┆ … ┆ 0              ┆ 0              ┆ 0              ┆ 0            │\n",
       "└─────┴──────────┴─────┴─────┴───┴────────────────┴────────────────┴────────────────┴──────────────┘"
      ]
     },
     "execution_count": 3,
     "metadata": {},
     "output_type": "execute_result"
    }
   ],
   "source": [
    "df = pl.read_csv(DATASET_CSV_PATH)\n",
    "\n",
    "df.head()"
   ]
  },
  {
   "cell_type": "code",
   "execution_count": 4,
   "metadata": {},
   "outputs": [
    {
     "data": {
      "text/html": [
       "<div><style>\n",
       ".dataframe > thead > tr,\n",
       ".dataframe > tbody > tr {\n",
       "  text-align: right;\n",
       "  white-space: pre-wrap;\n",
       "}\n",
       "</style>\n",
       "<small>shape: (9, 974)</small><table border=\"1\" class=\"dataframe\"><thead><tr><th>describe</th><th></th><th>dep_name</th><th>esi</th><th>age</th><th>gender</th><th>ethnicity</th><th>race</th><th>lang</th><th>religion</th><th>maritalstatus</th><th>employstatus</th><th>insurance_status</th><th>disposition</th><th>arrivalmode</th><th>arrivalmonth</th><th>arrivalday</th><th>arrivalhour_bin</th><th>previousdispo</th><th>2ndarymalig</th><th>abdomhernia</th><th>abdomnlpain</th><th>abortcompl</th><th>acqfootdef</th><th>acrenlfail</th><th>acutecvd</th><th>acutemi</th><th>acutphanm</th><th>adjustmentdisorders</th><th>adltrespfl</th><th>alcoholrelateddisorders</th><th>allergy</th><th>amniosdx</th><th>analrectal</th><th>anemia</th><th>aneurysm</th><th>anxietydisorders</th><th>&hellip;</th><th>cc_shortnessofbreath</th><th>cc_shoulderinjury</th><th>cc_shoulderpain</th><th>cc_sicklecellpain</th><th>cc_sinusproblem</th><th>cc_skinirritation</th><th>cc_skinproblem</th><th>cc_sorethroat</th><th>cc_stdcheck</th><th>cc_strokealert</th><th>cc_suicidal</th><th>cc_suture/stapleremoval</th><th>cc_swallowedforeignbody</th><th>cc_syncope</th><th>cc_tachycardia</th><th>cc_testiclepain</th><th>cc_thumbinjury</th><th>cc_tickremoval</th><th>cc_toeinjury</th><th>cc_toepain</th><th>cc_trauma</th><th>cc_unresponsive</th><th>cc_uri</th><th>cc_urinaryfrequency</th><th>cc_urinaryretention</th><th>cc_urinarytractinfection</th><th>cc_vaginalbleeding</th><th>cc_vaginaldischarge</th><th>cc_vaginalpain</th><th>cc_weakness</th><th>cc_wheezing</th><th>cc_withdrawal-alcohol</th><th>cc_woundcheck</th><th>cc_woundinfection</th><th>cc_woundre-evaluation</th><th>cc_wristinjury</th><th>cc_wristpain</th></tr><tr><td>str</td><td>f64</td><td>str</td><td>f64</td><td>f64</td><td>str</td><td>str</td><td>str</td><td>str</td><td>str</td><td>str</td><td>str</td><td>str</td><td>str</td><td>str</td><td>str</td><td>str</td><td>str</td><td>str</td><td>f64</td><td>f64</td><td>f64</td><td>f64</td><td>f64</td><td>f64</td><td>f64</td><td>f64</td><td>f64</td><td>f64</td><td>f64</td><td>f64</td><td>f64</td><td>f64</td><td>f64</td><td>f64</td><td>f64</td><td>f64</td><td>&hellip;</td><td>f64</td><td>f64</td><td>f64</td><td>f64</td><td>f64</td><td>f64</td><td>f64</td><td>f64</td><td>f64</td><td>f64</td><td>f64</td><td>f64</td><td>f64</td><td>f64</td><td>f64</td><td>f64</td><td>f64</td><td>f64</td><td>f64</td><td>f64</td><td>f64</td><td>f64</td><td>f64</td><td>f64</td><td>f64</td><td>f64</td><td>f64</td><td>f64</td><td>f64</td><td>f64</td><td>f64</td><td>f64</td><td>f64</td><td>f64</td><td>f64</td><td>f64</td><td>f64</td></tr></thead><tbody><tr><td>&quot;count&quot;</td><td>560486.0</td><td>&quot;560486&quot;</td><td>558029.0</td><td>560475.0</td><td>&quot;560486&quot;</td><td>&quot;560486&quot;</td><td>&quot;560460&quot;</td><td>&quot;560486&quot;</td><td>&quot;560486&quot;</td><td>&quot;560486&quot;</td><td>&quot;560486&quot;</td><td>&quot;560486&quot;</td><td>&quot;560486&quot;</td><td>&quot;538602&quot;</td><td>&quot;560486&quot;</td><td>&quot;560486&quot;</td><td>&quot;560486&quot;</td><td>&quot;560486&quot;</td><td>560486.0</td><td>560486.0</td><td>560486.0</td><td>560486.0</td><td>560486.0</td><td>560486.0</td><td>560486.0</td><td>560486.0</td><td>560486.0</td><td>560486.0</td><td>560486.0</td><td>560486.0</td><td>560486.0</td><td>560486.0</td><td>560486.0</td><td>560486.0</td><td>560486.0</td><td>560486.0</td><td>&hellip;</td><td>557901.0</td><td>557901.0</td><td>557901.0</td><td>557901.0</td><td>557901.0</td><td>557901.0</td><td>557901.0</td><td>557901.0</td><td>557901.0</td><td>557901.0</td><td>557901.0</td><td>557901.0</td><td>557901.0</td><td>557901.0</td><td>557901.0</td><td>557901.0</td><td>557901.0</td><td>557901.0</td><td>557901.0</td><td>557901.0</td><td>557901.0</td><td>557901.0</td><td>557901.0</td><td>557901.0</td><td>557901.0</td><td>557901.0</td><td>557901.0</td><td>557901.0</td><td>557901.0</td><td>557901.0</td><td>557901.0</td><td>557901.0</td><td>557901.0</td><td>557901.0</td><td>557901.0</td><td>557901.0</td><td>557901.0</td></tr><tr><td>&quot;null_count&quot;</td><td>0.0</td><td>&quot;0&quot;</td><td>2457.0</td><td>11.0</td><td>&quot;0&quot;</td><td>&quot;0&quot;</td><td>&quot;26&quot;</td><td>&quot;0&quot;</td><td>&quot;0&quot;</td><td>&quot;0&quot;</td><td>&quot;0&quot;</td><td>&quot;0&quot;</td><td>&quot;0&quot;</td><td>&quot;21884&quot;</td><td>&quot;0&quot;</td><td>&quot;0&quot;</td><td>&quot;0&quot;</td><td>&quot;0&quot;</td><td>0.0</td><td>0.0</td><td>0.0</td><td>0.0</td><td>0.0</td><td>0.0</td><td>0.0</td><td>0.0</td><td>0.0</td><td>0.0</td><td>0.0</td><td>0.0</td><td>0.0</td><td>0.0</td><td>0.0</td><td>0.0</td><td>0.0</td><td>0.0</td><td>&hellip;</td><td>2585.0</td><td>2585.0</td><td>2585.0</td><td>2585.0</td><td>2585.0</td><td>2585.0</td><td>2585.0</td><td>2585.0</td><td>2585.0</td><td>2585.0</td><td>2585.0</td><td>2585.0</td><td>2585.0</td><td>2585.0</td><td>2585.0</td><td>2585.0</td><td>2585.0</td><td>2585.0</td><td>2585.0</td><td>2585.0</td><td>2585.0</td><td>2585.0</td><td>2585.0</td><td>2585.0</td><td>2585.0</td><td>2585.0</td><td>2585.0</td><td>2585.0</td><td>2585.0</td><td>2585.0</td><td>2585.0</td><td>2585.0</td><td>2585.0</td><td>2585.0</td><td>2585.0</td><td>2585.0</td><td>2585.0</td></tr><tr><td>&quot;mean&quot;</td><td>280242.5</td><td>null</td><td>3.012385</td><td>49.876765</td><td>null</td><td>null</td><td>null</td><td>null</td><td>null</td><td>null</td><td>null</td><td>null</td><td>null</td><td>null</td><td>null</td><td>null</td><td>null</td><td>null</td><td>0.002155</td><td>0.030634</td><td>0.014807</td><td>0.000023</td><td>0.005179</td><td>0.009968</td><td>0.051054</td><td>0.035844</td><td>0.000459</td><td>0.001633</td><td>0.007122</td><td>0.055909</td><td>0.04586</td><td>0.000153</td><td>0.004644</td><td>0.084737</td><td>0.010712</td><td>0.199432</td><td>&hellip;</td><td>0.044212</td><td>0.001999</td><td>0.007471</td><td>0.002074</td><td>0.000988</td><td>0.001798</td><td>0.002262</td><td>0.013479</td><td>0.001552</td><td>0.003963</td><td>0.014958</td><td>0.003099</td><td>0.000661</td><td>0.008978</td><td>0.002024</td><td>0.001357</td><td>0.000816</td><td>0.000701</td><td>0.001101</td><td>0.002198</td><td>0.000855</td><td>0.001832</td><td>0.003187</td><td>0.000925</td><td>0.001981</td><td>0.004356</td><td>0.00725</td><td>0.001298</td><td>0.000717</td><td>0.013085</td><td>0.001052</td><td>0.001165</td><td>0.004219</td><td>0.002863</td><td>0.001233</td><td>0.001393</td><td>0.002518</td></tr><tr><td>&quot;std&quot;</td><td>161798.515826</td><td>null</td><td>0.869106</td><td>20.417029</td><td>null</td><td>null</td><td>null</td><td>null</td><td>null</td><td>null</td><td>null</td><td>null</td><td>null</td><td>null</td><td>null</td><td>null</td><td>null</td><td>null</td><td>0.046375</td><td>0.172324</td><td>0.120779</td><td>0.004816</td><td>0.071782</td><td>0.099342</td><td>0.220108</td><td>0.185901</td><td>0.021408</td><td>0.040371</td><td>0.084093</td><td>0.229745</td><td>0.209182</td><td>0.012386</td><td>0.06799</td><td>0.27849</td><td>0.102944</td><td>0.399574</td><td>&hellip;</td><td>0.205627</td><td>0.044661</td><td>0.086132</td><td>0.045492</td><td>0.031411</td><td>0.042362</td><td>0.047507</td><td>0.115361</td><td>0.039368</td><td>0.062828</td><td>0.121399</td><td>0.055583</td><td>0.025709</td><td>0.094347</td><td>0.04494</td><td>0.036811</td><td>0.028546</td><td>0.026464</td><td>0.033156</td><td>0.046865</td><td>0.029228</td><td>0.042803</td><td>0.056458</td><td>0.030398</td><td>0.04446</td><td>0.065853</td><td>0.08484</td><td>0.036001</td><td>0.0269</td><td>0.113638</td><td>0.032475</td><td>0.034113</td><td>0.06482</td><td>0.053426</td><td>0.035095</td><td>0.037293</td><td>0.050156</td></tr><tr><td>&quot;min&quot;</td><td>0.0</td><td>&quot;A&quot;</td><td>1.0</td><td>18.0</td><td>&quot;Female&quot;</td><td>&quot;Hispanic or La…</td><td>&quot;American India…</td><td>&quot;English&quot;</td><td>&quot;Baptist&quot;</td><td>&quot;Civil Union&quot;</td><td>&quot;Disabled&quot;</td><td>&quot;Commercial&quot;</td><td>&quot;Admit&quot;</td><td>&quot;Car&quot;</td><td>&quot;April&quot;</td><td>&quot;Friday&quot;</td><td>&quot;03-06&quot;</td><td>&quot;AMA&quot;</td><td>0.0</td><td>0.0</td><td>0.0</td><td>0.0</td><td>0.0</td><td>0.0</td><td>0.0</td><td>0.0</td><td>0.0</td><td>0.0</td><td>0.0</td><td>0.0</td><td>0.0</td><td>0.0</td><td>0.0</td><td>0.0</td><td>0.0</td><td>0.0</td><td>&hellip;</td><td>0.0</td><td>0.0</td><td>0.0</td><td>0.0</td><td>0.0</td><td>0.0</td><td>0.0</td><td>0.0</td><td>0.0</td><td>0.0</td><td>0.0</td><td>0.0</td><td>0.0</td><td>0.0</td><td>0.0</td><td>0.0</td><td>0.0</td><td>0.0</td><td>0.0</td><td>0.0</td><td>0.0</td><td>0.0</td><td>0.0</td><td>0.0</td><td>0.0</td><td>0.0</td><td>0.0</td><td>0.0</td><td>0.0</td><td>0.0</td><td>0.0</td><td>0.0</td><td>0.0</td><td>0.0</td><td>0.0</td><td>0.0</td><td>0.0</td></tr><tr><td>&quot;25%&quot;</td><td>140121.0</td><td>null</td><td>2.0</td><td>32.0</td><td>null</td><td>null</td><td>null</td><td>null</td><td>null</td><td>null</td><td>null</td><td>null</td><td>null</td><td>null</td><td>null</td><td>null</td><td>null</td><td>null</td><td>0.0</td><td>0.0</td><td>0.0</td><td>0.0</td><td>0.0</td><td>0.0</td><td>0.0</td><td>0.0</td><td>0.0</td><td>0.0</td><td>0.0</td><td>0.0</td><td>0.0</td><td>0.0</td><td>0.0</td><td>0.0</td><td>0.0</td><td>0.0</td><td>&hellip;</td><td>0.0</td><td>0.0</td><td>0.0</td><td>0.0</td><td>0.0</td><td>0.0</td><td>0.0</td><td>0.0</td><td>0.0</td><td>0.0</td><td>0.0</td><td>0.0</td><td>0.0</td><td>0.0</td><td>0.0</td><td>0.0</td><td>0.0</td><td>0.0</td><td>0.0</td><td>0.0</td><td>0.0</td><td>0.0</td><td>0.0</td><td>0.0</td><td>0.0</td><td>0.0</td><td>0.0</td><td>0.0</td><td>0.0</td><td>0.0</td><td>0.0</td><td>0.0</td><td>0.0</td><td>0.0</td><td>0.0</td><td>0.0</td><td>0.0</td></tr><tr><td>&quot;50%&quot;</td><td>280243.0</td><td>null</td><td>3.0</td><td>49.0</td><td>null</td><td>null</td><td>null</td><td>null</td><td>null</td><td>null</td><td>null</td><td>null</td><td>null</td><td>null</td><td>null</td><td>null</td><td>null</td><td>null</td><td>0.0</td><td>0.0</td><td>0.0</td><td>0.0</td><td>0.0</td><td>0.0</td><td>0.0</td><td>0.0</td><td>0.0</td><td>0.0</td><td>0.0</td><td>0.0</td><td>0.0</td><td>0.0</td><td>0.0</td><td>0.0</td><td>0.0</td><td>0.0</td><td>&hellip;</td><td>0.0</td><td>0.0</td><td>0.0</td><td>0.0</td><td>0.0</td><td>0.0</td><td>0.0</td><td>0.0</td><td>0.0</td><td>0.0</td><td>0.0</td><td>0.0</td><td>0.0</td><td>0.0</td><td>0.0</td><td>0.0</td><td>0.0</td><td>0.0</td><td>0.0</td><td>0.0</td><td>0.0</td><td>0.0</td><td>0.0</td><td>0.0</td><td>0.0</td><td>0.0</td><td>0.0</td><td>0.0</td><td>0.0</td><td>0.0</td><td>0.0</td><td>0.0</td><td>0.0</td><td>0.0</td><td>0.0</td><td>0.0</td><td>0.0</td></tr><tr><td>&quot;75%&quot;</td><td>420364.0</td><td>null</td><td>4.0</td><td>64.0</td><td>null</td><td>null</td><td>null</td><td>null</td><td>null</td><td>null</td><td>null</td><td>null</td><td>null</td><td>null</td><td>null</td><td>null</td><td>null</td><td>null</td><td>0.0</td><td>0.0</td><td>0.0</td><td>0.0</td><td>0.0</td><td>0.0</td><td>0.0</td><td>0.0</td><td>0.0</td><td>0.0</td><td>0.0</td><td>0.0</td><td>0.0</td><td>0.0</td><td>0.0</td><td>0.0</td><td>0.0</td><td>0.0</td><td>&hellip;</td><td>0.0</td><td>0.0</td><td>0.0</td><td>0.0</td><td>0.0</td><td>0.0</td><td>0.0</td><td>0.0</td><td>0.0</td><td>0.0</td><td>0.0</td><td>0.0</td><td>0.0</td><td>0.0</td><td>0.0</td><td>0.0</td><td>0.0</td><td>0.0</td><td>0.0</td><td>0.0</td><td>0.0</td><td>0.0</td><td>0.0</td><td>0.0</td><td>0.0</td><td>0.0</td><td>0.0</td><td>0.0</td><td>0.0</td><td>0.0</td><td>0.0</td><td>0.0</td><td>0.0</td><td>0.0</td><td>0.0</td><td>0.0</td><td>0.0</td></tr><tr><td>&quot;max&quot;</td><td>560485.0</td><td>&quot;C&quot;</td><td>5.0</td><td>108.0</td><td>&quot;Male&quot;</td><td>&quot;Unknown&quot;</td><td>&quot;White or Cauca…</td><td>&quot;Other&quot;</td><td>&quot;Unknown&quot;</td><td>&quot;Widowed&quot;</td><td>&quot;Unknown&quot;</td><td>&quot;Self pay&quot;</td><td>&quot;Discharge&quot;</td><td>&quot;ambulance&quot;</td><td>&quot;September&quot;</td><td>&quot;Wednesday&quot;</td><td>&quot;23-02&quot;</td><td>&quot;Transfer to An…</td><td>1.0</td><td>1.0</td><td>1.0</td><td>1.0</td><td>1.0</td><td>1.0</td><td>1.0</td><td>1.0</td><td>1.0</td><td>1.0</td><td>1.0</td><td>1.0</td><td>1.0</td><td>1.0</td><td>1.0</td><td>1.0</td><td>1.0</td><td>1.0</td><td>&hellip;</td><td>2.0</td><td>1.0</td><td>2.0</td><td>1.0</td><td>1.0</td><td>1.0</td><td>1.0</td><td>2.0</td><td>1.0</td><td>1.0</td><td>2.0</td><td>1.0</td><td>1.0</td><td>2.0</td><td>1.0</td><td>1.0</td><td>1.0</td><td>1.0</td><td>1.0</td><td>2.0</td><td>1.0</td><td>2.0</td><td>2.0</td><td>1.0</td><td>1.0</td><td>1.0</td><td>1.0</td><td>1.0</td><td>2.0</td><td>1.0</td><td>2.0</td><td>1.0</td><td>1.0</td><td>1.0</td><td>1.0</td><td>1.0</td><td>2.0</td></tr></tbody></table></div>"
      ],
      "text/plain": [
       "shape: (9, 974)\n",
       "┌────────────┬───────────┬──────────┬──────────┬───┬───────────┬───────────┬───────────┬───────────┐\n",
       "│ describe   ┆           ┆ dep_name ┆ esi      ┆ … ┆ cc_woundi ┆ cc_woundr ┆ cc_wristi ┆ cc_wristp │\n",
       "│ ---        ┆ ---       ┆ ---      ┆ ---      ┆   ┆ nfection  ┆ e-evaluat ┆ njury     ┆ ain       │\n",
       "│ str        ┆ f64       ┆ str      ┆ f64      ┆   ┆ ---       ┆ ion       ┆ ---       ┆ ---       │\n",
       "│            ┆           ┆          ┆          ┆   ┆ f64       ┆ ---       ┆ f64       ┆ f64       │\n",
       "│            ┆           ┆          ┆          ┆   ┆           ┆ f64       ┆           ┆           │\n",
       "╞════════════╪═══════════╪══════════╪══════════╪═══╪═══════════╪═══════════╪═══════════╪═══════════╡\n",
       "│ count      ┆ 560486.0  ┆ 560486   ┆ 558029.0 ┆ … ┆ 557901.0  ┆ 557901.0  ┆ 557901.0  ┆ 557901.0  │\n",
       "│ null_count ┆ 0.0       ┆ 0        ┆ 2457.0   ┆ … ┆ 2585.0    ┆ 2585.0    ┆ 2585.0    ┆ 2585.0    │\n",
       "│ mean       ┆ 280242.5  ┆ null     ┆ 3.012385 ┆ … ┆ 0.002863  ┆ 0.001233  ┆ 0.001393  ┆ 0.002518  │\n",
       "│ std        ┆ 161798.51 ┆ null     ┆ 0.869106 ┆ … ┆ 0.053426  ┆ 0.035095  ┆ 0.037293  ┆ 0.050156  │\n",
       "│            ┆ 5826      ┆          ┆          ┆   ┆           ┆           ┆           ┆           │\n",
       "│ min        ┆ 0.0       ┆ A        ┆ 1.0      ┆ … ┆ 0.0       ┆ 0.0       ┆ 0.0       ┆ 0.0       │\n",
       "│ 25%        ┆ 140121.0  ┆ null     ┆ 2.0      ┆ … ┆ 0.0       ┆ 0.0       ┆ 0.0       ┆ 0.0       │\n",
       "│ 50%        ┆ 280243.0  ┆ null     ┆ 3.0      ┆ … ┆ 0.0       ┆ 0.0       ┆ 0.0       ┆ 0.0       │\n",
       "│ 75%        ┆ 420364.0  ┆ null     ┆ 4.0      ┆ … ┆ 0.0       ┆ 0.0       ┆ 0.0       ┆ 0.0       │\n",
       "│ max        ┆ 560485.0  ┆ C        ┆ 5.0      ┆ … ┆ 1.0       ┆ 1.0       ┆ 1.0       ┆ 2.0       │\n",
       "└────────────┴───────────┴──────────┴──────────┴───┴───────────┴───────────┴───────────┴───────────┘"
      ]
     },
     "execution_count": 4,
     "metadata": {},
     "output_type": "execute_result"
    }
   ],
   "source": [
    "df.describe()"
   ]
  },
  {
   "cell_type": "code",
   "execution_count": 5,
   "metadata": {},
   "outputs": [
    {
     "name": "stderr",
     "output_type": "stream",
     "text": [
      "C:\\Users\\verge\\AppData\\Local\\Temp\\ipykernel_5352\\3345429919.py:13: DeprecationWarning: named `columns` param is deprecated; use positional `*args` instead.\n",
      "  df_witout_nunique = df.drop(columns=columns_to_remove)\n"
     ]
    },
    {
     "data": {
      "text/html": [
       "<div><style>\n",
       ".dataframe > thead > tr,\n",
       ".dataframe > tbody > tr {\n",
       "  text-align: right;\n",
       "  white-space: pre-wrap;\n",
       "}\n",
       "</style>\n",
       "<small>shape: (5, 971)</small><table border=\"1\" class=\"dataframe\"><thead><tr><th>esi</th><th>age</th><th>gender</th><th>ethnicity</th><th>race</th><th>lang</th><th>religion</th><th>maritalstatus</th><th>employstatus</th><th>insurance_status</th><th>disposition</th><th>arrivalmode</th><th>arrivalmonth</th><th>arrivalday</th><th>arrivalhour_bin</th><th>previousdispo</th><th>2ndarymalig</th><th>abdomhernia</th><th>abdomnlpain</th><th>abortcompl</th><th>acqfootdef</th><th>acrenlfail</th><th>acutecvd</th><th>acutemi</th><th>acutphanm</th><th>adjustmentdisorders</th><th>adltrespfl</th><th>alcoholrelateddisorders</th><th>allergy</th><th>amniosdx</th><th>analrectal</th><th>anemia</th><th>aneurysm</th><th>anxietydisorders</th><th>appendicitis</th><th>artembolism</th><th>asppneumon</th><th>&hellip;</th><th>cc_shortnessofbreath</th><th>cc_shoulderinjury</th><th>cc_shoulderpain</th><th>cc_sicklecellpain</th><th>cc_sinusproblem</th><th>cc_skinirritation</th><th>cc_skinproblem</th><th>cc_sorethroat</th><th>cc_stdcheck</th><th>cc_strokealert</th><th>cc_suicidal</th><th>cc_suture/stapleremoval</th><th>cc_swallowedforeignbody</th><th>cc_syncope</th><th>cc_tachycardia</th><th>cc_testiclepain</th><th>cc_thumbinjury</th><th>cc_tickremoval</th><th>cc_toeinjury</th><th>cc_toepain</th><th>cc_trauma</th><th>cc_unresponsive</th><th>cc_uri</th><th>cc_urinaryfrequency</th><th>cc_urinaryretention</th><th>cc_urinarytractinfection</th><th>cc_vaginalbleeding</th><th>cc_vaginaldischarge</th><th>cc_vaginalpain</th><th>cc_weakness</th><th>cc_wheezing</th><th>cc_withdrawal-alcohol</th><th>cc_woundcheck</th><th>cc_woundinfection</th><th>cc_woundre-evaluation</th><th>cc_wristinjury</th><th>cc_wristpain</th></tr><tr><td>i64</td><td>i64</td><td>str</td><td>str</td><td>str</td><td>str</td><td>str</td><td>str</td><td>str</td><td>str</td><td>str</td><td>str</td><td>str</td><td>str</td><td>str</td><td>str</td><td>f64</td><td>f64</td><td>f64</td><td>f64</td><td>f64</td><td>f64</td><td>f64</td><td>f64</td><td>f64</td><td>f64</td><td>f64</td><td>f64</td><td>f64</td><td>f64</td><td>f64</td><td>f64</td><td>f64</td><td>f64</td><td>f64</td><td>f64</td><td>f64</td><td>&hellip;</td><td>i64</td><td>i64</td><td>i64</td><td>i64</td><td>i64</td><td>i64</td><td>i64</td><td>i64</td><td>i64</td><td>i64</td><td>i64</td><td>i64</td><td>i64</td><td>i64</td><td>i64</td><td>i64</td><td>i64</td><td>i64</td><td>i64</td><td>i64</td><td>i64</td><td>i64</td><td>i64</td><td>i64</td><td>i64</td><td>i64</td><td>i64</td><td>i64</td><td>i64</td><td>i64</td><td>i64</td><td>i64</td><td>i64</td><td>i64</td><td>i64</td><td>i64</td><td>i64</td></tr></thead><tbody><tr><td>4</td><td>40</td><td>&quot;Male&quot;</td><td>&quot;Hispanic or La…</td><td>&quot;White or Cauca…</td><td>&quot;English&quot;</td><td>&quot;None&quot;</td><td>&quot;Single&quot;</td><td>&quot;Full Time&quot;</td><td>&quot;Other&quot;</td><td>&quot;Discharge&quot;</td><td>&quot;Walk-in&quot;</td><td>&quot;June&quot;</td><td>&quot;Tuesday&quot;</td><td>&quot;23-02&quot;</td><td>&quot;No previous di…</td><td>0.0</td><td>0.0</td><td>0.0</td><td>0.0</td><td>0.0</td><td>0.0</td><td>0.0</td><td>0.0</td><td>0.0</td><td>0.0</td><td>0.0</td><td>0.0</td><td>0.0</td><td>0.0</td><td>0.0</td><td>0.0</td><td>0.0</td><td>0.0</td><td>0.0</td><td>0.0</td><td>0.0</td><td>&hellip;</td><td>0</td><td>0</td><td>0</td><td>0</td><td>0</td><td>0</td><td>0</td><td>0</td><td>0</td><td>0</td><td>0</td><td>0</td><td>0</td><td>0</td><td>0</td><td>0</td><td>0</td><td>0</td><td>0</td><td>0</td><td>0</td><td>0</td><td>0</td><td>0</td><td>0</td><td>0</td><td>0</td><td>0</td><td>0</td><td>0</td><td>0</td><td>0</td><td>0</td><td>0</td><td>0</td><td>0</td><td>0</td></tr><tr><td>4</td><td>66</td><td>&quot;Male&quot;</td><td>&quot;Hispanic or La…</td><td>&quot;Native Hawaiia…</td><td>&quot;English&quot;</td><td>&quot;Pentecostal&quot;</td><td>&quot;Married&quot;</td><td>&quot;Not Employed&quot;</td><td>&quot;Commercial&quot;</td><td>&quot;Discharge&quot;</td><td>&quot;Car&quot;</td><td>&quot;January&quot;</td><td>&quot;Tuesday&quot;</td><td>&quot;15-18&quot;</td><td>&quot;No previous di…</td><td>0.0</td><td>0.0</td><td>0.0</td><td>0.0</td><td>0.0</td><td>0.0</td><td>0.0</td><td>0.0</td><td>0.0</td><td>0.0</td><td>0.0</td><td>0.0</td><td>0.0</td><td>0.0</td><td>0.0</td><td>0.0</td><td>0.0</td><td>0.0</td><td>0.0</td><td>0.0</td><td>0.0</td><td>&hellip;</td><td>0</td><td>0</td><td>0</td><td>0</td><td>0</td><td>0</td><td>0</td><td>0</td><td>0</td><td>0</td><td>0</td><td>0</td><td>0</td><td>0</td><td>0</td><td>0</td><td>0</td><td>0</td><td>0</td><td>0</td><td>0</td><td>0</td><td>0</td><td>0</td><td>0</td><td>0</td><td>0</td><td>0</td><td>0</td><td>0</td><td>0</td><td>0</td><td>0</td><td>0</td><td>0</td><td>0</td><td>0</td></tr><tr><td>2</td><td>66</td><td>&quot;Male&quot;</td><td>&quot;Hispanic or La…</td><td>&quot;Native Hawaiia…</td><td>&quot;English&quot;</td><td>&quot;Pentecostal&quot;</td><td>&quot;Married&quot;</td><td>&quot;Not Employed&quot;</td><td>&quot;Commercial&quot;</td><td>&quot;Discharge&quot;</td><td>&quot;Walk-in&quot;</td><td>&quot;July&quot;</td><td>&quot;Thursday&quot;</td><td>&quot;11-14&quot;</td><td>&quot;Discharge&quot;</td><td>0.0</td><td>0.0</td><td>0.0</td><td>0.0</td><td>0.0</td><td>0.0</td><td>0.0</td><td>0.0</td><td>0.0</td><td>0.0</td><td>0.0</td><td>0.0</td><td>0.0</td><td>0.0</td><td>0.0</td><td>0.0</td><td>0.0</td><td>0.0</td><td>0.0</td><td>0.0</td><td>0.0</td><td>&hellip;</td><td>0</td><td>0</td><td>0</td><td>0</td><td>0</td><td>0</td><td>0</td><td>0</td><td>0</td><td>0</td><td>0</td><td>0</td><td>0</td><td>0</td><td>0</td><td>0</td><td>0</td><td>0</td><td>0</td><td>0</td><td>0</td><td>0</td><td>0</td><td>0</td><td>0</td><td>0</td><td>0</td><td>0</td><td>0</td><td>0</td><td>0</td><td>0</td><td>0</td><td>0</td><td>0</td><td>0</td><td>0</td></tr><tr><td>2</td><td>66</td><td>&quot;Male&quot;</td><td>&quot;Hispanic or La…</td><td>&quot;Native Hawaiia…</td><td>&quot;English&quot;</td><td>&quot;Pentecostal&quot;</td><td>&quot;Married&quot;</td><td>&quot;Not Employed&quot;</td><td>&quot;Commercial&quot;</td><td>&quot;Discharge&quot;</td><td>&quot;Car&quot;</td><td>&quot;July&quot;</td><td>&quot;Saturday&quot;</td><td>&quot;11-14&quot;</td><td>&quot;Discharge&quot;</td><td>0.0</td><td>0.0</td><td>0.0</td><td>0.0</td><td>0.0</td><td>0.0</td><td>0.0</td><td>0.0</td><td>0.0</td><td>0.0</td><td>0.0</td><td>0.0</td><td>0.0</td><td>0.0</td><td>0.0</td><td>0.0</td><td>0.0</td><td>0.0</td><td>0.0</td><td>0.0</td><td>0.0</td><td>&hellip;</td><td>0</td><td>0</td><td>0</td><td>0</td><td>0</td><td>0</td><td>0</td><td>0</td><td>0</td><td>0</td><td>0</td><td>0</td><td>0</td><td>0</td><td>0</td><td>0</td><td>0</td><td>0</td><td>0</td><td>0</td><td>0</td><td>0</td><td>0</td><td>0</td><td>0</td><td>0</td><td>0</td><td>0</td><td>0</td><td>0</td><td>0</td><td>0</td><td>0</td><td>0</td><td>0</td><td>0</td><td>0</td></tr><tr><td>3</td><td>84</td><td>&quot;Female&quot;</td><td>&quot;Hispanic or La…</td><td>&quot;Other&quot;</td><td>&quot;Other&quot;</td><td>&quot;Pentecostal&quot;</td><td>&quot;Widowed&quot;</td><td>&quot;Retired&quot;</td><td>&quot;Medicare&quot;</td><td>&quot;Admit&quot;</td><td>&quot;Walk-in&quot;</td><td>&quot;November&quot;</td><td>&quot;Tuesday&quot;</td><td>&quot;07-10&quot;</td><td>&quot;Discharge&quot;</td><td>0.0</td><td>0.0</td><td>0.0</td><td>0.0</td><td>0.0</td><td>0.0</td><td>0.0</td><td>0.0</td><td>0.0</td><td>0.0</td><td>0.0</td><td>0.0</td><td>0.0</td><td>0.0</td><td>0.0</td><td>0.0</td><td>0.0</td><td>0.0</td><td>0.0</td><td>0.0</td><td>0.0</td><td>&hellip;</td><td>0</td><td>0</td><td>0</td><td>0</td><td>0</td><td>0</td><td>0</td><td>0</td><td>0</td><td>0</td><td>0</td><td>0</td><td>0</td><td>0</td><td>0</td><td>0</td><td>0</td><td>0</td><td>0</td><td>0</td><td>0</td><td>0</td><td>0</td><td>0</td><td>0</td><td>0</td><td>0</td><td>0</td><td>0</td><td>0</td><td>0</td><td>0</td><td>0</td><td>0</td><td>0</td><td>0</td><td>0</td></tr></tbody></table></div>"
      ],
      "text/plain": [
       "shape: (5, 971)\n",
       "┌─────┬─────┬────────┬──────────────┬───┬──────────────┬──────────────┬──────────────┬─────────────┐\n",
       "│ esi ┆ age ┆ gender ┆ ethnicity    ┆ … ┆ cc_woundinfe ┆ cc_woundre-e ┆ cc_wristinju ┆ cc_wristpai │\n",
       "│ --- ┆ --- ┆ ---    ┆ ---          ┆   ┆ ction        ┆ valuation    ┆ ry           ┆ n           │\n",
       "│ i64 ┆ i64 ┆ str    ┆ str          ┆   ┆ ---          ┆ ---          ┆ ---          ┆ ---         │\n",
       "│     ┆     ┆        ┆              ┆   ┆ i64          ┆ i64          ┆ i64          ┆ i64         │\n",
       "╞═════╪═════╪════════╪══════════════╪═══╪══════════════╪══════════════╪══════════════╪═════════════╡\n",
       "│ 4   ┆ 40  ┆ Male   ┆ Hispanic or  ┆ … ┆ 0            ┆ 0            ┆ 0            ┆ 0           │\n",
       "│     ┆     ┆        ┆ Latino       ┆   ┆              ┆              ┆              ┆             │\n",
       "│ 4   ┆ 66  ┆ Male   ┆ Hispanic or  ┆ … ┆ 0            ┆ 0            ┆ 0            ┆ 0           │\n",
       "│     ┆     ┆        ┆ Latino       ┆   ┆              ┆              ┆              ┆             │\n",
       "│ 2   ┆ 66  ┆ Male   ┆ Hispanic or  ┆ … ┆ 0            ┆ 0            ┆ 0            ┆ 0           │\n",
       "│     ┆     ┆        ┆ Latino       ┆   ┆              ┆              ┆              ┆             │\n",
       "│ 2   ┆ 66  ┆ Male   ┆ Hispanic or  ┆ … ┆ 0            ┆ 0            ┆ 0            ┆ 0           │\n",
       "│     ┆     ┆        ┆ Latino       ┆   ┆              ┆              ┆              ┆             │\n",
       "│ 3   ┆ 84  ┆ Female ┆ Hispanic or  ┆ … ┆ 0            ┆ 0            ┆ 0            ┆ 0           │\n",
       "│     ┆     ┆        ┆ Latino       ┆   ┆              ┆              ┆              ┆             │\n",
       "└─────┴─────┴────────┴──────────────┴───┴──────────────┴──────────────┴──────────────┴─────────────┘"
      ]
     },
     "execution_count": 5,
     "metadata": {},
     "output_type": "execute_result"
    }
   ],
   "source": [
    "# Removes the First Column (Index)\n",
    "df = df.drop(\"\")\n",
    "\n",
    "# columns = dict()\n",
    "# for column in df.columns:\n",
    "#     columns[column] = df[column].unique().sort().to_list()\n",
    "\n",
    "# with open(\"columns.json\", \"w\") as outfile:\n",
    "#     outfile.write(json.dumps(columns, indent=4))\n",
    "\n",
    "# Elimina las columnas donde todos sus elementos sean iguales\n",
    "columns_to_remove = df.columns[df.n_unique() == 1]\n",
    "df_witout_nunique = df.drop(columns=columns_to_remove)\n",
    "df_witout_nunique.head()"
   ]
  },
  {
   "cell_type": "code",
   "execution_count": 6,
   "metadata": {},
   "outputs": [],
   "source": [
    "significantColumns = ['cc_chestpain', 'cc_breathingdifficulty', 'cc_syncope', 'cc_unresponsive', 'cc_seizure-newonset', 'cc_seizure-priorhxof', 'cc_seizures', 'cc_bleeding/bruising', 'cc_hyperglycemia', 'cc_hypertension', 'cc_hypotension', 'cc_strokealert', 'cc_overdose-accidental', 'cc_overdose-intentional', 'cc_suicidal']"
   ]
  },
  {
   "cell_type": "code",
   "execution_count": 7,
   "metadata": {},
   "outputs": [
    {
     "name": "stdout",
     "output_type": "stream",
     "text": [
      "emergency_flag_column\n",
      "False    493625\n",
      "True      66861\n",
      "Name: count, dtype: int64\n"
     ]
    }
   ],
   "source": [
    "# If any of the significant columns are on true, automatically has the flag of emergency\n",
    "df_witout_nunique = df_witout_nunique.to_pandas()\n",
    "df_witout_nunique['emergency_flag_column'] = df_witout_nunique[significantColumns].any(axis=1)\n",
    "\n",
    "print(df_witout_nunique['emergency_flag_column'].value_counts())"
   ]
  },
  {
   "cell_type": "code",
   "execution_count": 8,
   "metadata": {},
   "outputs": [
    {
     "name": "stdout",
     "output_type": "stream",
     "text": [
      "gender\n",
      "0    309653\n",
      "1    250833\n",
      "Name: count, dtype: int64\n"
     ]
    }
   ],
   "source": [
    "df_converted = df_witout_nunique.copy()\n",
    "\n",
    "# Inicializar el codificador de etiquetas\n",
    "label_encoder = LabelEncoder()\n",
    "\n",
    "# Identificar las variables categóricas\n",
    "categorical_columns = []\n",
    "for column in df_converted.columns:\n",
    "    # Verificar si la columna es de tipo 'object' o 'category'\n",
    "    if df_converted[column].dtype == 'object' or df_converted[column].dtype == 'category' :  \n",
    "        categorical_columns.append(column)\n",
    "\n",
    "# Convertir las variables categóricas usando LabelEncoder\n",
    "for column in categorical_columns:\n",
    "    df_converted[column] = label_encoder.fit_transform(df_converted[column])\n",
    "\n",
    "print(df_converted['gender'].value_counts())\n"
   ]
  },
  {
   "cell_type": "code",
   "execution_count": 9,
   "metadata": {},
   "outputs": [
    {
     "name": "stdout",
     "output_type": "stream",
     "text": [
      "569\n",
      "0\n"
     ]
    }
   ],
   "source": [
    "columnsWithNan = df_converted.isna().any().pipe(lambda x: x.index[x])\n",
    "print(len(columnsWithNan))\n",
    "\n",
    "# Reemplazo los valores nulos con -999. Se podría intentar en una proxima iteracion con algo como col.mode()[0] o valores significativos reales\n",
    "df_filled = df_converted.apply(lambda col: col.fillna(-999))\n",
    "\n",
    "newColumnsWithNan = df_filled.isna().any().pipe(lambda x: x.index[x])\n",
    "print(len(newColumnsWithNan))\n"
   ]
  },
  {
   "cell_type": "code",
   "execution_count": 10,
   "metadata": {},
   "outputs": [],
   "source": [
    "# División de datos\n",
    "random_state = 42\n",
    "\n",
    "X = df_filled.drop(columns=['emergency_flag_column'])\n",
    "y = df_filled['emergency_flag_column']\n",
    "\n",
    "X_train, X_test, y_train, y_test = train_test_split(X, y, test_size=0.2, random_state=random_state)"
   ]
  },
  {
   "cell_type": "code",
   "execution_count": 11,
   "metadata": {},
   "outputs": [
    {
     "data": {
      "text/html": [
       "<style>#sk-container-id-1 {color: black;}#sk-container-id-1 pre{padding: 0;}#sk-container-id-1 div.sk-toggleable {background-color: white;}#sk-container-id-1 label.sk-toggleable__label {cursor: pointer;display: block;width: 100%;margin-bottom: 0;padding: 0.3em;box-sizing: border-box;text-align: center;}#sk-container-id-1 label.sk-toggleable__label-arrow:before {content: \"▸\";float: left;margin-right: 0.25em;color: #696969;}#sk-container-id-1 label.sk-toggleable__label-arrow:hover:before {color: black;}#sk-container-id-1 div.sk-estimator:hover label.sk-toggleable__label-arrow:before {color: black;}#sk-container-id-1 div.sk-toggleable__content {max-height: 0;max-width: 0;overflow: hidden;text-align: left;background-color: #f0f8ff;}#sk-container-id-1 div.sk-toggleable__content pre {margin: 0.2em;color: black;border-radius: 0.25em;background-color: #f0f8ff;}#sk-container-id-1 input.sk-toggleable__control:checked~div.sk-toggleable__content {max-height: 200px;max-width: 100%;overflow: auto;}#sk-container-id-1 input.sk-toggleable__control:checked~label.sk-toggleable__label-arrow:before {content: \"▾\";}#sk-container-id-1 div.sk-estimator input.sk-toggleable__control:checked~label.sk-toggleable__label {background-color: #d4ebff;}#sk-container-id-1 div.sk-label input.sk-toggleable__control:checked~label.sk-toggleable__label {background-color: #d4ebff;}#sk-container-id-1 input.sk-hidden--visually {border: 0;clip: rect(1px 1px 1px 1px);clip: rect(1px, 1px, 1px, 1px);height: 1px;margin: -1px;overflow: hidden;padding: 0;position: absolute;width: 1px;}#sk-container-id-1 div.sk-estimator {font-family: monospace;background-color: #f0f8ff;border: 1px dotted black;border-radius: 0.25em;box-sizing: border-box;margin-bottom: 0.5em;}#sk-container-id-1 div.sk-estimator:hover {background-color: #d4ebff;}#sk-container-id-1 div.sk-parallel-item::after {content: \"\";width: 100%;border-bottom: 1px solid gray;flex-grow: 1;}#sk-container-id-1 div.sk-label:hover label.sk-toggleable__label {background-color: #d4ebff;}#sk-container-id-1 div.sk-serial::before {content: \"\";position: absolute;border-left: 1px solid gray;box-sizing: border-box;top: 0;bottom: 0;left: 50%;z-index: 0;}#sk-container-id-1 div.sk-serial {display: flex;flex-direction: column;align-items: center;background-color: white;padding-right: 0.2em;padding-left: 0.2em;position: relative;}#sk-container-id-1 div.sk-item {position: relative;z-index: 1;}#sk-container-id-1 div.sk-parallel {display: flex;align-items: stretch;justify-content: center;background-color: white;position: relative;}#sk-container-id-1 div.sk-item::before, #sk-container-id-1 div.sk-parallel-item::before {content: \"\";position: absolute;border-left: 1px solid gray;box-sizing: border-box;top: 0;bottom: 0;left: 50%;z-index: -1;}#sk-container-id-1 div.sk-parallel-item {display: flex;flex-direction: column;z-index: 1;position: relative;background-color: white;}#sk-container-id-1 div.sk-parallel-item:first-child::after {align-self: flex-end;width: 50%;}#sk-container-id-1 div.sk-parallel-item:last-child::after {align-self: flex-start;width: 50%;}#sk-container-id-1 div.sk-parallel-item:only-child::after {width: 0;}#sk-container-id-1 div.sk-dashed-wrapped {border: 1px dashed gray;margin: 0 0.4em 0.5em 0.4em;box-sizing: border-box;padding-bottom: 0.4em;background-color: white;}#sk-container-id-1 div.sk-label label {font-family: monospace;font-weight: bold;display: inline-block;line-height: 1.2em;}#sk-container-id-1 div.sk-label-container {text-align: center;}#sk-container-id-1 div.sk-container {/* jupyter's `normalize.less` sets `[hidden] { display: none; }` but bootstrap.min.css set `[hidden] { display: none !important; }` so we also need the `!important` here to be able to override the default hidden behavior on the sphinx rendered scikit-learn.org. See: https://github.com/scikit-learn/scikit-learn/issues/21755 */display: inline-block !important;position: relative;}#sk-container-id-1 div.sk-text-repr-fallback {display: none;}</style><div id=\"sk-container-id-1\" class=\"sk-top-container\"><div class=\"sk-text-repr-fallback\"><pre>RandomForestClassifier(random_state=42)</pre><b>In a Jupyter environment, please rerun this cell to show the HTML representation or trust the notebook. <br />On GitHub, the HTML representation is unable to render, please try loading this page with nbviewer.org.</b></div><div class=\"sk-container\" hidden><div class=\"sk-item\"><div class=\"sk-estimator sk-toggleable\"><input class=\"sk-toggleable__control sk-hidden--visually\" id=\"sk-estimator-id-1\" type=\"checkbox\" checked><label for=\"sk-estimator-id-1\" class=\"sk-toggleable__label sk-toggleable__label-arrow\">RandomForestClassifier</label><div class=\"sk-toggleable__content\"><pre>RandomForestClassifier(random_state=42)</pre></div></div></div></div></div>"
      ],
      "text/plain": [
       "RandomForestClassifier(random_state=42)"
      ]
     },
     "execution_count": 11,
     "metadata": {},
     "output_type": "execute_result"
    }
   ],
   "source": [
    "# Entrenamiento del modelo\n",
    "model = RandomForestClassifier(n_estimators=100, random_state=random_state)\n",
    "model.fit(X_train, y_train)"
   ]
  },
  {
   "cell_type": "code",
   "execution_count": 12,
   "metadata": {},
   "outputs": [
    {
     "name": "stdout",
     "output_type": "stream",
     "text": [
      "Accuracy: 0.9971631964887866\n"
     ]
    }
   ],
   "source": [
    "# Validación del modelo\n",
    "y_pred = model.predict(X_test)\n",
    "accuracy = accuracy_score(y_test, y_pred)\n",
    "print(f'Accuracy: {accuracy}')"
   ]
  },
  {
   "cell_type": "code",
   "execution_count": 13,
   "metadata": {},
   "outputs": [
    {
     "name": "stdout",
     "output_type": "stream",
     "text": [
      "Verdaderos Positivos: 12833\n"
     ]
    }
   ],
   "source": [
    "confusion = confusion_matrix(y_test, y_pred)\n",
    "TP = confusion[1, 1]\n",
    "FP = confusion[0, 1]\n",
    "TN = confusion[0, 0]\n",
    "FN = confusion[1, 0]\n",
    "\n",
    "print(f\"Verdaderos Positivos: {str(TP)}\")"
   ]
  },
  {
   "cell_type": "code",
   "execution_count": 14,
   "metadata": {},
   "outputs": [],
   "source": [
    "# Codificación de variables categóricas\n",
    "df_encoded = pd.get_dummies(df_witout_nunique)"
   ]
  },
  {
   "cell_type": "code",
   "execution_count": 15,
   "metadata": {},
   "outputs": [
    {
     "name": "stdout",
     "output_type": "stream",
     "text": [
      "[[4.0 40.0 'Male' ... 0.0 0.0 False]\n",
      " [4.0 66.0 'Male' ... 0.0 0.0 False]\n",
      " [2.0 66.0 'Male' ... 0.0 0.0 False]\n",
      " ...\n",
      " [3.0 50.0 'Male' ... 0.0 0.0 False]\n",
      " [3.0 50.0 'Male' ... 0.0 0.0 False]\n",
      " [3.0 50.0 'Male' ... 0.0 0.0 False]]\n"
     ]
    }
   ],
   "source": [
    "# Manejo de valores nulos\n",
    "imputer = SimpleImputer(strategy='most_frequent')  \n",
    "df_without_null = imputer.fit_transform(df_witout_nunique)\n",
    "print(df_without_null)"
   ]
  },
  {
   "cell_type": "code",
   "execution_count": 16,
   "metadata": {},
   "outputs": [
    {
     "data": {
      "image/png": "[encoded data removed]",
      "text/plain": [
       "<Figure size 800x600 with 1 Axes>"
      ]
     },
     "metadata": {},
     "output_type": "display_data"
    }
   ],
   "source": [
    "# Crear un DataFrame con las características y las etiquetas codificadas\n",
    "df_plot = X.copy()\n",
    "df_plot['emergency_flag'] = y\n",
    "\n",
    "# Graficar la distribución de las clases\n",
    "plt.figure(figsize=(8, 6))\n",
    "sns.countplot(x='emergency_flag', data=df_plot)\n",
    "plt.title('Distribución de Clases')\n",
    "plt.xlabel('Clase')\n",
    "plt.ylabel('Conteo')\n",
    "plt.show()"
   ]
  }
 ],
 "metadata": {
  "kernelspec": {
   "display_name": "Python 3",
   "language": "python",
   "name": "python3"
  },
  "language_info": {
   "codemirror_mode": {
    "name": "ipython",
    "version": 3
   },
   "file_extension": ".py",
   "mimetype": "text/x-python",
   "name": "python",
   "nbconvert_exporter": "python",
   "pygments_lexer": "ipython3",
   "version": "3.8.10"
  }
 },
 "nbformat": 4,
 "nbformat_minor": 2
}

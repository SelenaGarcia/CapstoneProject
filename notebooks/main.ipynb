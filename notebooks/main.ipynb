{
 "cells": [
  {
   "cell_type": "code",
   "execution_count": null,
   "metadata": {},
   "outputs": [],
   "source": [
    "import gradio as gr\n",
    "import json\n",
    "import matplotlib.pyplot as plt\n",
    "import pandas as pd\n",
    "import polars as pl\n",
    "import seaborn as sns\n",
    "import sys\n",
    "\n",
    "# Sets Current Directory to Parent Path\n",
    "sys.path.insert(0, '..')\n",
    "\n",
    "from sklearn.ensemble import RandomForestClassifier\n",
    "from sklearn.impute import SimpleImputer\n",
    "from sklearn.metrics import accuracy_score, confusion_matrix\n",
    "from sklearn.model_selection import train_test_split\n",
    "from sklearn.preprocessing import LabelEncoder\n",
    "from src.utils.main import download_dataset, convert_dataset"
   ]
  },
  {
   "cell_type": "code",
   "execution_count": null,
   "metadata": {},
   "outputs": [],
   "source": [
    "DATASET_URL = 'https://github.com/yaleemmlc/admissionprediction/raw/master/Results/5v_cleandf.RData'\n",
    "FILE_PATH = '../data'\n",
    "FILE_NAME = 'Results.rdata'\n",
    "\n",
    "# Downloads the Original Dataset (RData File)\n",
    "DATASET_RDATA_PATH = download_dataset(DATASET_URL, FILE_PATH, FILE_NAME)\n",
    "\n",
    "# Converts the RData File to a New CSV File\n",
    "DATASET_CSV_PATH = convert_dataset(DATASET_RDATA_PATH, DATASET_RDATA_PATH.replace('.rdata', '.csv'))"
   ]
  },
  {
   "cell_type": "code",
   "execution_count": null,
   "metadata": {},
   "outputs": [],
   "source": [
    "df = pl.read_csv(DATASET_CSV_PATH)\n",
    "\n",
    "df.head()"
   ]
  },
  {
   "cell_type": "code",
   "execution_count": null,
   "metadata": {},
   "outputs": [],
   "source": [
    "df.describe()"
   ]
  },
  {
   "cell_type": "code",
   "execution_count": null,
   "metadata": {},
   "outputs": [],
   "source": [
    "# Removes the First Column (Index)\n",
    "df = df.drop(\"\")\n",
    "\n",
    "# columns = dict()\n",
    "# for column in df.columns:\n",
    "#     columns[column] = df[column].unique().sort().to_list()\n",
    "\n",
    "# with open(\"columns.json\", \"w\") as outfile:\n",
    "#     outfile.write(json.dumps(columns, indent=4))\n",
    "\n",
    "# Elimina las columnas donde todos sus elementos sean iguales\n",
    "columns_to_remove = df.columns[df.n_unique() == 1]\n",
    "df_witout_nunique = df.drop(columns=columns_to_remove)\n",
    "df_witout_nunique.head()"
   ]
  },
  {
   "cell_type": "code",
   "execution_count": null,
   "metadata": {},
   "outputs": [],
   "source": [
    "significantColumns = ['cc_chestpain', 'cc_breathingdifficulty', 'cc_syncope', 'cc_unresponsive', 'cc_seizure-newonset', 'cc_seizure-priorhxof', 'cc_seizures', 'cc_bleeding/bruising', 'cc_hyperglycemia', 'cc_hypertension', 'cc_hypotension', 'cc_strokealert', 'cc_overdose-accidental', 'cc_overdose-intentional', 'cc_suicidal']"
   ]
  },
  {
   "cell_type": "code",
   "execution_count": null,
   "metadata": {},
   "outputs": [],
   "source": [
    "# If any of the significant columns are on true, automatically has the flag of emergency\n",
    "df_witout_nunique = df_witout_nunique.to_pandas()\n",
    "df_witout_nunique['emergency_flag_column'] = df_witout_nunique[significantColumns].any(axis=1)\n",
    "\n",
    "print(df_witout_nunique['emergency_flag_column'].value_counts())"
   ]
  },
  {
   "cell_type": "code",
   "execution_count": null,
   "metadata": {},
   "outputs": [],
   "source": [
    "df_converted = df_witout_nunique.copy()\n",
    "\n",
    "# Inicializar el codificador de etiquetas\n",
    "label_encoder = LabelEncoder()\n",
    "\n",
    "# Identificar las variables categóricas\n",
    "categorical_columns = []\n",
    "for column in df_converted.columns:\n",
    "    # Verificar si la columna es de tipo 'object' o 'category'\n",
    "    if df_converted[column].dtype == 'object' or df_converted[column].dtype == 'category' :  \n",
    "        categorical_columns.append(column)\n",
    "\n",
    "# Convertir las variables categóricas usando LabelEncoder\n",
    "for column in categorical_columns:\n",
    "    df_converted[column] = label_encoder.fit_transform(df_converted[column])\n",
    "\n",
    "print(df_converted['gender'].value_counts())"
   ]
  },
  {
   "cell_type": "code",
   "execution_count": null,
   "metadata": {},
   "outputs": [],
   "source": [
    "columnsWithNan = df_converted.isna().any().pipe(lambda x: x.index[x])\n",
    "print(len(columnsWithNan))\n",
    "\n",
    "# Reemplazo los valores nulos con -999. Se podría intentar en una proxima iteracion con algo como col.mode()[0] o valores significativos reales\n",
    "df_filled = df_converted.apply(lambda col: col.fillna(-999))\n",
    "\n",
    "newColumnsWithNan = df_filled.isna().any().pipe(lambda x: x.index[x])\n",
    "print(len(newColumnsWithNan))"
   ]
  },
  {
   "cell_type": "code",
   "execution_count": null,
   "metadata": {},
   "outputs": [],
   "source": [
    "# División de datos\n",
    "random_state = 42\n",
    "\n",
    "X = df_filled.drop(columns=['emergency_flag_column'])\n",
    "y = df_filled['emergency_flag_column']\n",
    "\n",
    "X_train, X_test, y_train, y_test = train_test_split(X, y, test_size=0.2, random_state=random_state)"
   ]
  },
  {
   "cell_type": "code",
   "execution_count": null,
   "metadata": {},
   "outputs": [],
   "source": [
    "# Entrenamiento del modelo\n",
    "model = RandomForestClassifier(n_estimators=100, random_state=random_state)\n",
    "model.fit(X_train, y_train)"
   ]
  },
  {
   "cell_type": "code",
   "execution_count": null,
   "metadata": {},
   "outputs": [],
   "source": [
    "# Validación del modelo\n",
    "y_pred = model.predict(X_test)\n",
    "accuracy = accuracy_score(y_test, y_pred)\n",
    "print(f'Accuracy: {accuracy}')"
   ]
  },
  {
   "cell_type": "code",
   "execution_count": null,
   "metadata": {},
   "outputs": [],
   "source": [
    "from sklearn.metrics import confusion_matrix\n",
    "\n",
    "confusion = confusion_matrix(y_test, y_pred)\n",
    "TP = confusion[1, 1]\n",
    "FP = confusion[0, 1]\n",
    "TN = confusion[0, 0]\n",
    "FN = confusion[1, 0]\n",
    "\n",
    "print(f\"Verdaderos Positivos: {str(TP)}\")"
   ]
  },
  {
   "cell_type": "code",
   "execution_count": null,
   "metadata": {},
   "outputs": [],
   "source": [
    "# Codificación de variables categóricas\n",
    "df_encoded = pd.get_dummies(df_witout_nunique)"
   ]
  },
  {
   "cell_type": "code",
   "execution_count": null,
   "metadata": {},
   "outputs": [],
   "source": [
    "# Manejo de valores nulos\n",
    "imputer = SimpleImputer(strategy='most_frequent')  \n",
    "df_without_null = imputer.fit_transform(df_witout_nunique)\n",
    "print(df_without_null)"
   ]
  },
  {
   "cell_type": "code",
   "execution_count": null,
   "metadata": {},
   "outputs": [],
   "source": [
    "# Crear un DataFrame con las características y las etiquetas codificadas\n",
    "df_plot = X.copy()\n",
    "df_plot['emergency_flag'] = y\n",
    "\n",
    "# Graficar la distribución de las clases\n",
    "plt.figure(figsize=(8, 6))\n",
    "sns.countplot(x='emergency_flag', data=df_plot)\n",
    "plt.title('Distribución de Clases')\n",
    "plt.xlabel('Clase')\n",
    "plt.ylabel('Conteo')\n",
    "plt.show()"
   ]
  },
  {
   "cell_type": "code",
   "execution_count": null,
   "metadata": {},
   "outputs": [],
   "source": [
    "# Obtener las probabilidades de predicción en lugar de las etiquetas binarias\n",
    "probabilities = model.predict_proba(X_test)[:, 1]\n",
    "\n",
    "# Crear un DataFrame con las probabilidades, las etiquetas originales y otras columnas relevantes\n",
    "result_df = pd.DataFrame({\n",
    "    'Probability': probabilities,\n",
    "    'Actual_Label': y_test,\n",
    "    # También puedes agregar otras columnas relevantes del conjunto de prueba\n",
    "})\n",
    "\n",
    "threshold = 0.5\n",
    "emergency_list = result_df[result_df['Probability'] > threshold].sort_values(by='Probability', ascending=False)\n",
    "\n",
    "# Mostrar el listado de emergencias según su importancia\n",
    "print(emergency_list)"
   ]
  },
  {
   "cell_type": "code",
   "execution_count": null,
   "metadata": {},
   "outputs": [],
   "source": [
    "import tkinter as tk\n",
    "from tkinter import messagebox, simpledialog\n",
    "import sqlite3\n",
    "\n",
    "class EmergencyClassifierApp:\n",
    "    def __init__(self, model, database_path='patients.db'):\n",
    "        self.model = model\n",
    "        self.database_path = database_path\n",
    "\n",
    "        # Create or connect to the SQLite database\n",
    "        self.connection = sqlite3.connect(self.database_path)\n",
    "        self.create_patient_table()\n",
    "\n",
    "        self.root = tk.Tk()\n",
    "        self.root.title(\"Emergency Classifier\")\n",
    "\n",
    "        self.name = None\n",
    "        self.age = None\n",
    "\n",
    "        self.questions = [\n",
    "            \"Does the patient have chest pain?\",\n",
    "            \"Is the patient having difficulty breathing?\",\n",
    "            \"Has the patient experienced fainting (syncope)?\",\n",
    "            \"Is the patient unconscious or unresponsive?\",\n",
    "            \"Has the patient had a recent seizure?\",\n",
    "            \"Does the patient have a history of seizures?\",\n",
    "            \"Has the patient had more than one seizure?\",\n",
    "            \"Is the patient experiencing bleeding or bruising?\",\n",
    "            \"Does the patient have elevated blood glucose levels?\",\n",
    "            \"Does the patient have hypertension?\",\n",
    "            \"Does the patient have hypotension?\",\n",
    "            \"Is the patient a possible stroke alert?\",\n",
    "            \"Has the patient had an accidental overdose?\",\n",
    "            \"Has the patient had an intentional overdose?\",\n",
    "            \"Does the patient have suicidal thoughts?\"\n",
    "        ]\n",
    "\n",
    "        self.label = tk.Label(self.root, text=\"Enter Patient's Name:\")\n",
    "        self.label.pack(pady=10)\n",
    "\n",
    "        self.name_entry = tk.Entry(self.root)\n",
    "        self.name_entry.pack(pady=5)\n",
    "\n",
    "        self.age_label = tk.Label(self.root, text=\"Enter Patient's Age:\")\n",
    "        self.age_label.pack(pady=5)\n",
    "\n",
    "        self.age_entry = tk.Entry(self.root)\n",
    "        self.age_entry.pack(pady=5)\n",
    "\n",
    "        self.next_button = tk.Button(self.root, text=\"Next\", command=self.ask_questions)\n",
    "        self.next_button.pack(pady=10)\n",
    "\n",
    "        self.result_label = tk.Label(self.root, text=\"\")\n",
    "        self.result_label.pack(pady=10)\n",
    "\n",
    "        self.current_question_index = 0\n",
    "\n",
    "    def create_patient_table(self):\n",
    "        cursor = self.connection.cursor()\n",
    "        cursor.execute('''\n",
    "            CREATE TABLE IF NOT EXISTS patients (\n",
    "                id INTEGER PRIMARY KEY AUTOINCREMENT,\n",
    "                name TEXT NOT NULL,\n",
    "                age INTEGER NOT NULL,\n",
    "                is_emergency INTEGER NOT NULL\n",
    "            )\n",
    "        ''')\n",
    "        self.connection.commit()\n",
    "\n",
    "    def insert_patient_record(self, name, age, is_emergency):\n",
    "        cursor = self.connection.cursor()\n",
    "        cursor.execute('INSERT INTO patients (name, age, is_emergency) VALUES (?, ?, ?)', (name, age, is_emergency))\n",
    "        self.connection.commit()\n",
    "\n",
    "    def ask_questions(self):\n",
    "        if not self.name or not self.age:\n",
    "            self.name = self.name_entry.get()\n",
    "            self.age = self.age_entry.get()\n",
    "\n",
    "            if not self.name or not self.age:\n",
    "                messagebox.showerror(\"Error\", \"Please enter both name and age.\")\n",
    "                return\n",
    "\n",
    "            self.age = int(self.age)\n",
    "\n",
    "        self.label.config(text=self.questions[self.current_question_index])\n",
    "        self.current_question_index += 1\n",
    "\n",
    "        if self.current_question_index == len(self.questions):\n",
    "            self.next_button.config(command=self.show_result)\n",
    "        else:\n",
    "            self.next_button.config(command=self.answer_yes_no)\n",
    "\n",
    "    def answer_yes_no(self):\n",
    "        result = messagebox.askyesno(\"Question\", self.questions[self.current_question_index])\n",
    "        self.insert_patient_record(self.name, self.age, int(result))\n",
    "        self.current_question_index += 1\n",
    "\n",
    "        if self.current_question_index == len(self.questions):\n",
    "            self.next_button.config(command=self.show_result)\n",
    "            self.label.config(text=\"Click 'Next' to see the result.\")\n",
    "        else:\n",
    "            self.label.config(text=self.questions[self.current_question_index])\n",
    "\n",
    "    def show_result(self):\n",
    "        if self.model:\n",
    "            result = self.model.predict([0]*len(self.questions))  # Replace with actual prediction\n",
    "            is_emergency = \"Emergency\" if result == 1 else \"Is Not an Emergency\"\n",
    "        else:\n",
    "            is_emergency = \"Emergency (Model Not Defined)\"\n",
    "\n",
    "        position = self.get_patient_position()\n",
    "        self.result_label.config(text=f\"Result: {is_emergency}\\nPosition in Database: {position}\")\n",
    "\n",
    "    def get_patient_position(self):\n",
    "        cursor = self.connection.cursor()\n",
    "        cursor.execute('SELECT id FROM patients ORDER BY id DESC LIMIT 1')\n",
    "        result = cursor.fetchone()\n",
    "        return result[0] if result else 1\n",
    "\n",
    "    def __del__(self):\n",
    "        # Close the database connection when the application is closed\n",
    "        if self.connection:\n",
    "            self.connection.close()\n",
    "\n",
    "if __name__ == \"__main__\":\n",
    "    app = EmergencyClassifierApp(model=None)\n",
    "    app.root.mainloop()"
   ]
  }
 ],
 "metadata": {
  "kernelspec": {
   "display_name": "Python 3",
   "language": "python",
   "name": "python3"
  },
  "language_info": {
   "codemirror_mode": {
    "name": "ipython",
    "version": 3
   },
   "file_extension": ".py",
   "mimetype": "text/x-python",
   "name": "python",
   "nbconvert_exporter": "python",
   "pygments_lexer": "ipython3",
   "version": "3.8.10"
  }
 },
 "nbformat": 4,
 "nbformat_minor": 2
}

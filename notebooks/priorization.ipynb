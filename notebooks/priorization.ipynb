{
 "cells": [
  {
   "cell_type": "code",
   "execution_count": 1,
   "id": "7e42f49f-80da-45b6-a91e-316b5687fa7f",
   "metadata": {},
   "outputs": [],
   "source": [
    "import pandas as pd\n",
    "\n",
    "priorizationFile = \"capsone.xlsx\"\n",
    "datasetFile = \"Results.csv\"\n",
    "\n",
    "from sklearn.model_selection import train_test_split\n",
    "import matplotlib.pyplot as plt\n",
    "import seaborn as sns"
   ]
  },
  {
   "cell_type": "code",
   "execution_count": 2,
   "id": "2a4182d6-1795-409e-b963-8f674cb820f7",
   "metadata": {},
   "outputs": [
    {
     "data": {
      "text/html": [
       "<div>\n",
       "<style scoped>\n",
       "    .dataframe tbody tr th:only-of-type {\n",
       "        vertical-align: middle;\n",
       "    }\n",
       "\n",
       "    .dataframe tbody tr th {\n",
       "        vertical-align: top;\n",
       "    }\n",
       "\n",
       "    .dataframe thead th {\n",
       "        text-align: right;\n",
       "    }\n",
       "</style>\n",
       "<table border=\"1\" class=\"dataframe\">\n",
       "  <thead>\n",
       "    <tr style=\"text-align: right;\">\n",
       "      <th></th>\n",
       "      <th>Type</th>\n",
       "      <th>Name</th>\n",
       "      <th>Label</th>\n",
       "      <th>Priority</th>\n",
       "    </tr>\n",
       "  </thead>\n",
       "  <tbody>\n",
       "    <tr>\n",
       "      <th>0</th>\n",
       "      <td>Mental</td>\n",
       "      <td>cc_addictionproblem</td>\n",
       "      <td>addiction problem</td>\n",
       "      <td>61</td>\n",
       "    </tr>\n",
       "    <tr>\n",
       "      <th>1</th>\n",
       "      <td>Mental</td>\n",
       "      <td>cc_agitation</td>\n",
       "      <td>agitation</td>\n",
       "      <td>41</td>\n",
       "    </tr>\n",
       "    <tr>\n",
       "      <th>2</th>\n",
       "      <td>Mental</td>\n",
       "      <td>cc_alcoholproblem</td>\n",
       "      <td>alcohol problem</td>\n",
       "      <td>63</td>\n",
       "    </tr>\n",
       "    <tr>\n",
       "      <th>3</th>\n",
       "      <td>Mental</td>\n",
       "      <td>cc_anxiety</td>\n",
       "      <td>anxiety</td>\n",
       "      <td>52</td>\n",
       "    </tr>\n",
       "    <tr>\n",
       "      <th>4</th>\n",
       "      <td>Mental</td>\n",
       "      <td>cc_depression</td>\n",
       "      <td>depression</td>\n",
       "      <td>53</td>\n",
       "    </tr>\n",
       "  </tbody>\n",
       "</table>\n",
       "</div>"
      ],
      "text/plain": [
       "     Type                 Name              Label  Priority\n",
       "0  Mental  cc_addictionproblem  addiction problem        61\n",
       "1  Mental         cc_agitation          agitation        41\n",
       "2  Mental    cc_alcoholproblem    alcohol problem        63\n",
       "3  Mental           cc_anxiety            anxiety        52\n",
       "4  Mental        cc_depression         depression        53"
      ]
     },
     "execution_count": 2,
     "metadata": {},
     "output_type": "execute_result"
    }
   ],
   "source": [
    "priorization = pd.read_excel(priorizationFile)\n",
    "priorization.head()"
   ]
  },
  {
   "cell_type": "code",
   "execution_count": 3,
   "id": "f1e22367-bfa0-458c-b73d-908daca5672b",
   "metadata": {},
   "outputs": [
    {
     "data": {
      "text/html": [
       "<div>\n",
       "<style scoped>\n",
       "    .dataframe tbody tr th:only-of-type {\n",
       "        vertical-align: middle;\n",
       "    }\n",
       "\n",
       "    .dataframe tbody tr th {\n",
       "        vertical-align: top;\n",
       "    }\n",
       "\n",
       "    .dataframe thead th {\n",
       "        text-align: right;\n",
       "    }\n",
       "</style>\n",
       "<table border=\"1\" class=\"dataframe\">\n",
       "  <thead>\n",
       "    <tr style=\"text-align: right;\">\n",
       "      <th></th>\n",
       "      <th>Unnamed: 0</th>\n",
       "      <th>dep_name</th>\n",
       "      <th>esi</th>\n",
       "      <th>age</th>\n",
       "      <th>gender</th>\n",
       "      <th>ethnicity</th>\n",
       "      <th>race</th>\n",
       "      <th>lang</th>\n",
       "      <th>religion</th>\n",
       "      <th>maritalstatus</th>\n",
       "      <th>...</th>\n",
       "      <th>cc_vaginaldischarge</th>\n",
       "      <th>cc_vaginalpain</th>\n",
       "      <th>cc_weakness</th>\n",
       "      <th>cc_wheezing</th>\n",
       "      <th>cc_withdrawal-alcohol</th>\n",
       "      <th>cc_woundcheck</th>\n",
       "      <th>cc_woundinfection</th>\n",
       "      <th>cc_woundre-evaluation</th>\n",
       "      <th>cc_wristinjury</th>\n",
       "      <th>cc_wristpain</th>\n",
       "    </tr>\n",
       "  </thead>\n",
       "  <tbody>\n",
       "    <tr>\n",
       "      <th>0</th>\n",
       "      <td>0</td>\n",
       "      <td>B</td>\n",
       "      <td>4.0</td>\n",
       "      <td>40.0</td>\n",
       "      <td>Male</td>\n",
       "      <td>Hispanic or Latino</td>\n",
       "      <td>White or Caucasian</td>\n",
       "      <td>English</td>\n",
       "      <td>NaN</td>\n",
       "      <td>Single</td>\n",
       "      <td>...</td>\n",
       "      <td>0.0</td>\n",
       "      <td>0.0</td>\n",
       "      <td>0.0</td>\n",
       "      <td>0.0</td>\n",
       "      <td>0.0</td>\n",
       "      <td>0.0</td>\n",
       "      <td>0.0</td>\n",
       "      <td>0.0</td>\n",
       "      <td>0.0</td>\n",
       "      <td>0.0</td>\n",
       "    </tr>\n",
       "    <tr>\n",
       "      <th>1</th>\n",
       "      <td>1</td>\n",
       "      <td>B</td>\n",
       "      <td>4.0</td>\n",
       "      <td>66.0</td>\n",
       "      <td>Male</td>\n",
       "      <td>Hispanic or Latino</td>\n",
       "      <td>Native Hawaiian or Other Pacific Islander</td>\n",
       "      <td>English</td>\n",
       "      <td>Pentecostal</td>\n",
       "      <td>Married</td>\n",
       "      <td>...</td>\n",
       "      <td>0.0</td>\n",
       "      <td>0.0</td>\n",
       "      <td>0.0</td>\n",
       "      <td>0.0</td>\n",
       "      <td>0.0</td>\n",
       "      <td>0.0</td>\n",
       "      <td>0.0</td>\n",
       "      <td>0.0</td>\n",
       "      <td>0.0</td>\n",
       "      <td>0.0</td>\n",
       "    </tr>\n",
       "    <tr>\n",
       "      <th>2</th>\n",
       "      <td>2</td>\n",
       "      <td>B</td>\n",
       "      <td>2.0</td>\n",
       "      <td>66.0</td>\n",
       "      <td>Male</td>\n",
       "      <td>Hispanic or Latino</td>\n",
       "      <td>Native Hawaiian or Other Pacific Islander</td>\n",
       "      <td>English</td>\n",
       "      <td>Pentecostal</td>\n",
       "      <td>Married</td>\n",
       "      <td>...</td>\n",
       "      <td>0.0</td>\n",
       "      <td>0.0</td>\n",
       "      <td>0.0</td>\n",
       "      <td>0.0</td>\n",
       "      <td>0.0</td>\n",
       "      <td>0.0</td>\n",
       "      <td>0.0</td>\n",
       "      <td>0.0</td>\n",
       "      <td>0.0</td>\n",
       "      <td>0.0</td>\n",
       "    </tr>\n",
       "    <tr>\n",
       "      <th>3</th>\n",
       "      <td>3</td>\n",
       "      <td>A</td>\n",
       "      <td>2.0</td>\n",
       "      <td>66.0</td>\n",
       "      <td>Male</td>\n",
       "      <td>Hispanic or Latino</td>\n",
       "      <td>Native Hawaiian or Other Pacific Islander</td>\n",
       "      <td>English</td>\n",
       "      <td>Pentecostal</td>\n",
       "      <td>Married</td>\n",
       "      <td>...</td>\n",
       "      <td>0.0</td>\n",
       "      <td>0.0</td>\n",
       "      <td>0.0</td>\n",
       "      <td>0.0</td>\n",
       "      <td>0.0</td>\n",
       "      <td>0.0</td>\n",
       "      <td>0.0</td>\n",
       "      <td>0.0</td>\n",
       "      <td>0.0</td>\n",
       "      <td>0.0</td>\n",
       "    </tr>\n",
       "    <tr>\n",
       "      <th>4</th>\n",
       "      <td>4</td>\n",
       "      <td>A</td>\n",
       "      <td>3.0</td>\n",
       "      <td>84.0</td>\n",
       "      <td>Female</td>\n",
       "      <td>Hispanic or Latino</td>\n",
       "      <td>Other</td>\n",
       "      <td>Other</td>\n",
       "      <td>Pentecostal</td>\n",
       "      <td>Widowed</td>\n",
       "      <td>...</td>\n",
       "      <td>0.0</td>\n",
       "      <td>0.0</td>\n",
       "      <td>0.0</td>\n",
       "      <td>0.0</td>\n",
       "      <td>0.0</td>\n",
       "      <td>0.0</td>\n",
       "      <td>0.0</td>\n",
       "      <td>0.0</td>\n",
       "      <td>0.0</td>\n",
       "      <td>0.0</td>\n",
       "    </tr>\n",
       "  </tbody>\n",
       "</table>\n",
       "<p>5 rows × 973 columns</p>\n",
       "</div>"
      ],
      "text/plain": [
       "   Unnamed: 0 dep_name  esi   age  gender           ethnicity  \\\n",
       "0           0        B  4.0  40.0    Male  Hispanic or Latino   \n",
       "1           1        B  4.0  66.0    Male  Hispanic or Latino   \n",
       "2           2        B  2.0  66.0    Male  Hispanic or Latino   \n",
       "3           3        A  2.0  66.0    Male  Hispanic or Latino   \n",
       "4           4        A  3.0  84.0  Female  Hispanic or Latino   \n",
       "\n",
       "                                        race     lang     religion  \\\n",
       "0                         White or Caucasian  English          NaN   \n",
       "1  Native Hawaiian or Other Pacific Islander  English  Pentecostal   \n",
       "2  Native Hawaiian or Other Pacific Islander  English  Pentecostal   \n",
       "3  Native Hawaiian or Other Pacific Islander  English  Pentecostal   \n",
       "4                                      Other    Other  Pentecostal   \n",
       "\n",
       "  maritalstatus  ... cc_vaginaldischarge cc_vaginalpain cc_weakness  \\\n",
       "0        Single  ...                 0.0            0.0         0.0   \n",
       "1       Married  ...                 0.0            0.0         0.0   \n",
       "2       Married  ...                 0.0            0.0         0.0   \n",
       "3       Married  ...                 0.0            0.0         0.0   \n",
       "4       Widowed  ...                 0.0            0.0         0.0   \n",
       "\n",
       "  cc_wheezing cc_withdrawal-alcohol cc_woundcheck cc_woundinfection  \\\n",
       "0         0.0                   0.0           0.0               0.0   \n",
       "1         0.0                   0.0           0.0               0.0   \n",
       "2         0.0                   0.0           0.0               0.0   \n",
       "3         0.0                   0.0           0.0               0.0   \n",
       "4         0.0                   0.0           0.0               0.0   \n",
       "\n",
       "  cc_woundre-evaluation  cc_wristinjury  cc_wristpain  \n",
       "0                   0.0             0.0           0.0  \n",
       "1                   0.0             0.0           0.0  \n",
       "2                   0.0             0.0           0.0  \n",
       "3                   0.0             0.0           0.0  \n",
       "4                   0.0             0.0           0.0  \n",
       "\n",
       "[5 rows x 973 columns]"
      ]
     },
     "execution_count": 3,
     "metadata": {},
     "output_type": "execute_result"
    }
   ],
   "source": [
    "dataset = pd.read_csv(datasetFile)\n",
    "dataset.head()"
   ]
  },
  {
   "cell_type": "code",
   "execution_count": 4,
   "id": "d6997384-5fc0-4ad2-900b-82d81946e7c2",
   "metadata": {},
   "outputs": [
    {
     "data": {
      "text/html": [
       "<div>\n",
       "<style scoped>\n",
       "    .dataframe tbody tr th:only-of-type {\n",
       "        vertical-align: middle;\n",
       "    }\n",
       "\n",
       "    .dataframe tbody tr th {\n",
       "        vertical-align: top;\n",
       "    }\n",
       "\n",
       "    .dataframe thead th {\n",
       "        text-align: right;\n",
       "    }\n",
       "</style>\n",
       "<table border=\"1\" class=\"dataframe\">\n",
       "  <thead>\n",
       "    <tr style=\"text-align: right;\">\n",
       "      <th></th>\n",
       "      <th>cc_addictionproblem</th>\n",
       "      <th>cc_agitation</th>\n",
       "      <th>cc_alcoholproblem</th>\n",
       "      <th>cc_anxiety</th>\n",
       "      <th>cc_depression</th>\n",
       "      <th>cc_detoxevaluation</th>\n",
       "      <th>cc_hallucinations</th>\n",
       "      <th>cc_homicidal</th>\n",
       "      <th>cc_panicattack</th>\n",
       "      <th>cc_psychoticsymptoms</th>\n",
       "      <th>...</th>\n",
       "      <th>cc_abdominalpainpregnant</th>\n",
       "      <th>cc_constipation</th>\n",
       "      <th>cc_diarrhea</th>\n",
       "      <th>cc_epigastricpain</th>\n",
       "      <th>cc_hematuria</th>\n",
       "      <th>cc_hemoptysis</th>\n",
       "      <th>cc_nausea</th>\n",
       "      <th>cc_flankpain</th>\n",
       "      <th>cc_rectalbleeding</th>\n",
       "      <th>cc_rectalpain</th>\n",
       "    </tr>\n",
       "  </thead>\n",
       "  <tbody>\n",
       "    <tr>\n",
       "      <th>0</th>\n",
       "      <td>0.0</td>\n",
       "      <td>0.0</td>\n",
       "      <td>0.0</td>\n",
       "      <td>0.0</td>\n",
       "      <td>0.0</td>\n",
       "      <td>0.0</td>\n",
       "      <td>0.0</td>\n",
       "      <td>0.0</td>\n",
       "      <td>0.0</td>\n",
       "      <td>0.0</td>\n",
       "      <td>...</td>\n",
       "      <td>0.0</td>\n",
       "      <td>0.0</td>\n",
       "      <td>0.0</td>\n",
       "      <td>0.0</td>\n",
       "      <td>0.0</td>\n",
       "      <td>0.0</td>\n",
       "      <td>0.0</td>\n",
       "      <td>0.0</td>\n",
       "      <td>0.0</td>\n",
       "      <td>0.0</td>\n",
       "    </tr>\n",
       "    <tr>\n",
       "      <th>1</th>\n",
       "      <td>0.0</td>\n",
       "      <td>0.0</td>\n",
       "      <td>0.0</td>\n",
       "      <td>0.0</td>\n",
       "      <td>0.0</td>\n",
       "      <td>0.0</td>\n",
       "      <td>0.0</td>\n",
       "      <td>0.0</td>\n",
       "      <td>0.0</td>\n",
       "      <td>0.0</td>\n",
       "      <td>...</td>\n",
       "      <td>0.0</td>\n",
       "      <td>0.0</td>\n",
       "      <td>0.0</td>\n",
       "      <td>0.0</td>\n",
       "      <td>0.0</td>\n",
       "      <td>0.0</td>\n",
       "      <td>0.0</td>\n",
       "      <td>0.0</td>\n",
       "      <td>0.0</td>\n",
       "      <td>0.0</td>\n",
       "    </tr>\n",
       "    <tr>\n",
       "      <th>2</th>\n",
       "      <td>0.0</td>\n",
       "      <td>0.0</td>\n",
       "      <td>0.0</td>\n",
       "      <td>0.0</td>\n",
       "      <td>0.0</td>\n",
       "      <td>0.0</td>\n",
       "      <td>0.0</td>\n",
       "      <td>0.0</td>\n",
       "      <td>0.0</td>\n",
       "      <td>0.0</td>\n",
       "      <td>...</td>\n",
       "      <td>0.0</td>\n",
       "      <td>0.0</td>\n",
       "      <td>0.0</td>\n",
       "      <td>0.0</td>\n",
       "      <td>0.0</td>\n",
       "      <td>0.0</td>\n",
       "      <td>0.0</td>\n",
       "      <td>0.0</td>\n",
       "      <td>0.0</td>\n",
       "      <td>0.0</td>\n",
       "    </tr>\n",
       "    <tr>\n",
       "      <th>3</th>\n",
       "      <td>0.0</td>\n",
       "      <td>0.0</td>\n",
       "      <td>0.0</td>\n",
       "      <td>0.0</td>\n",
       "      <td>0.0</td>\n",
       "      <td>0.0</td>\n",
       "      <td>0.0</td>\n",
       "      <td>0.0</td>\n",
       "      <td>0.0</td>\n",
       "      <td>0.0</td>\n",
       "      <td>...</td>\n",
       "      <td>0.0</td>\n",
       "      <td>0.0</td>\n",
       "      <td>0.0</td>\n",
       "      <td>0.0</td>\n",
       "      <td>0.0</td>\n",
       "      <td>0.0</td>\n",
       "      <td>0.0</td>\n",
       "      <td>0.0</td>\n",
       "      <td>0.0</td>\n",
       "      <td>0.0</td>\n",
       "    </tr>\n",
       "    <tr>\n",
       "      <th>4</th>\n",
       "      <td>0.0</td>\n",
       "      <td>0.0</td>\n",
       "      <td>0.0</td>\n",
       "      <td>0.0</td>\n",
       "      <td>0.0</td>\n",
       "      <td>0.0</td>\n",
       "      <td>0.0</td>\n",
       "      <td>0.0</td>\n",
       "      <td>0.0</td>\n",
       "      <td>0.0</td>\n",
       "      <td>...</td>\n",
       "      <td>0.0</td>\n",
       "      <td>0.0</td>\n",
       "      <td>0.0</td>\n",
       "      <td>0.0</td>\n",
       "      <td>0.0</td>\n",
       "      <td>0.0</td>\n",
       "      <td>0.0</td>\n",
       "      <td>0.0</td>\n",
       "      <td>0.0</td>\n",
       "      <td>0.0</td>\n",
       "    </tr>\n",
       "  </tbody>\n",
       "</table>\n",
       "<p>5 rows × 143 columns</p>\n",
       "</div>"
      ],
      "text/plain": [
       "   cc_addictionproblem  cc_agitation  cc_alcoholproblem  cc_anxiety  \\\n",
       "0                  0.0           0.0                0.0         0.0   \n",
       "1                  0.0           0.0                0.0         0.0   \n",
       "2                  0.0           0.0                0.0         0.0   \n",
       "3                  0.0           0.0                0.0         0.0   \n",
       "4                  0.0           0.0                0.0         0.0   \n",
       "\n",
       "   cc_depression  cc_detoxevaluation  cc_hallucinations  cc_homicidal  \\\n",
       "0            0.0                 0.0                0.0           0.0   \n",
       "1            0.0                 0.0                0.0           0.0   \n",
       "2            0.0                 0.0                0.0           0.0   \n",
       "3            0.0                 0.0                0.0           0.0   \n",
       "4            0.0                 0.0                0.0           0.0   \n",
       "\n",
       "   cc_panicattack  cc_psychoticsymptoms  ...  cc_abdominalpainpregnant  \\\n",
       "0             0.0                   0.0  ...                       0.0   \n",
       "1             0.0                   0.0  ...                       0.0   \n",
       "2             0.0                   0.0  ...                       0.0   \n",
       "3             0.0                   0.0  ...                       0.0   \n",
       "4             0.0                   0.0  ...                       0.0   \n",
       "\n",
       "   cc_constipation  cc_diarrhea  cc_epigastricpain  cc_hematuria  \\\n",
       "0              0.0          0.0                0.0           0.0   \n",
       "1              0.0          0.0                0.0           0.0   \n",
       "2              0.0          0.0                0.0           0.0   \n",
       "3              0.0          0.0                0.0           0.0   \n",
       "4              0.0          0.0                0.0           0.0   \n",
       "\n",
       "   cc_hemoptysis  cc_nausea  cc_flankpain  cc_rectalbleeding  cc_rectalpain  \n",
       "0            0.0        0.0           0.0                0.0            0.0  \n",
       "1            0.0        0.0           0.0                0.0            0.0  \n",
       "2            0.0        0.0           0.0                0.0            0.0  \n",
       "3            0.0        0.0           0.0                0.0            0.0  \n",
       "4            0.0        0.0           0.0                0.0            0.0  \n",
       "\n",
       "[5 rows x 143 columns]"
      ]
     },
     "execution_count": 4,
     "metadata": {},
     "output_type": "execute_result"
    }
   ],
   "source": [
    "# filter non used columns\n",
    "columns = priorization['Name'].tolist()\n",
    "datasetFiltered = dataset[columns]\n",
    "datasetFiltered.head()"
   ]
  },
  {
   "cell_type": "code",
   "execution_count": 5,
   "id": "03cbda53-2983-4f7e-9333-f7c78549c6ca",
   "metadata": {},
   "outputs": [
    {
     "data": {
      "text/plain": [
       "560486"
      ]
     },
     "execution_count": 5,
     "metadata": {},
     "output_type": "execute_result"
    }
   ],
   "source": [
    "# Replace all numbers in the columns with True or False\n",
    "datasetBoolean = datasetFiltered[columns] != 0\n",
    "len(datasetBoolean)"
   ]
  },
  {
   "cell_type": "code",
   "execution_count": 6,
   "id": "16baea44-6eb4-4d27-af67-a52c85a8c9dd",
   "metadata": {},
   "outputs": [
    {
     "data": {
      "text/plain": [
       "434859"
      ]
     },
     "execution_count": 6,
     "metadata": {},
     "output_type": "execute_result"
    }
   ],
   "source": [
    "# Delete all rows that have only False\n",
    "datasetBoolean = datasetBoolean.loc[(datasetBoolean != False).any(axis=1)]\n",
    "len(datasetBoolean)"
   ]
  },
  {
   "cell_type": "code",
   "execution_count": 7,
   "id": "db6e0a34-afa3-45b9-8291-0680ed846b8b",
   "metadata": {},
   "outputs": [
    {
     "name": "stderr",
     "output_type": "stream",
     "text": [
      "/tmp/ipykernel_207051/593401516.py:10: PerformanceWarning: DataFrame is highly fragmented.  This is usually the result of calling `frame.insert` many times, which has poor performance.  Consider joining all columns at once using pd.concat(axis=1) instead. To get a de-fragmented frame, use `newframe = frame.copy()`\n",
      "  datasetTemp['result'] = datasetTemp[priorization['Name']].sum(axis=1)\n"
     ]
    },
    {
     "data": {
      "text/html": [
       "<div>\n",
       "<style scoped>\n",
       "    .dataframe tbody tr th:only-of-type {\n",
       "        vertical-align: middle;\n",
       "    }\n",
       "\n",
       "    .dataframe tbody tr th {\n",
       "        vertical-align: top;\n",
       "    }\n",
       "\n",
       "    .dataframe thead th {\n",
       "        text-align: right;\n",
       "    }\n",
       "</style>\n",
       "<table border=\"1\" class=\"dataframe\">\n",
       "  <thead>\n",
       "    <tr style=\"text-align: right;\">\n",
       "      <th></th>\n",
       "      <th>cc_addictionproblem</th>\n",
       "      <th>cc_agitation</th>\n",
       "      <th>cc_alcoholproblem</th>\n",
       "      <th>cc_anxiety</th>\n",
       "      <th>cc_depression</th>\n",
       "      <th>cc_detoxevaluation</th>\n",
       "      <th>cc_hallucinations</th>\n",
       "      <th>cc_homicidal</th>\n",
       "      <th>cc_panicattack</th>\n",
       "      <th>cc_psychoticsymptoms</th>\n",
       "      <th>...</th>\n",
       "      <th>cc_constipation</th>\n",
       "      <th>cc_diarrhea</th>\n",
       "      <th>cc_epigastricpain</th>\n",
       "      <th>cc_hematuria</th>\n",
       "      <th>cc_hemoptysis</th>\n",
       "      <th>cc_nausea</th>\n",
       "      <th>cc_flankpain</th>\n",
       "      <th>cc_rectalbleeding</th>\n",
       "      <th>cc_rectalpain</th>\n",
       "      <th>result</th>\n",
       "    </tr>\n",
       "  </thead>\n",
       "  <tbody>\n",
       "    <tr>\n",
       "      <th>2</th>\n",
       "      <td>False</td>\n",
       "      <td>False</td>\n",
       "      <td>False</td>\n",
       "      <td>False</td>\n",
       "      <td>False</td>\n",
       "      <td>False</td>\n",
       "      <td>False</td>\n",
       "      <td>False</td>\n",
       "      <td>False</td>\n",
       "      <td>False</td>\n",
       "      <td>...</td>\n",
       "      <td>False</td>\n",
       "      <td>False</td>\n",
       "      <td>False</td>\n",
       "      <td>False</td>\n",
       "      <td>False</td>\n",
       "      <td>False</td>\n",
       "      <td>False</td>\n",
       "      <td>False</td>\n",
       "      <td>False</td>\n",
       "      <td>68</td>\n",
       "    </tr>\n",
       "    <tr>\n",
       "      <th>3</th>\n",
       "      <td>False</td>\n",
       "      <td>False</td>\n",
       "      <td>False</td>\n",
       "      <td>False</td>\n",
       "      <td>False</td>\n",
       "      <td>False</td>\n",
       "      <td>False</td>\n",
       "      <td>False</td>\n",
       "      <td>False</td>\n",
       "      <td>False</td>\n",
       "      <td>...</td>\n",
       "      <td>False</td>\n",
       "      <td>False</td>\n",
       "      <td>False</td>\n",
       "      <td>False</td>\n",
       "      <td>False</td>\n",
       "      <td>False</td>\n",
       "      <td>False</td>\n",
       "      <td>False</td>\n",
       "      <td>False</td>\n",
       "      <td>71</td>\n",
       "    </tr>\n",
       "    <tr>\n",
       "      <th>4</th>\n",
       "      <td>False</td>\n",
       "      <td>False</td>\n",
       "      <td>False</td>\n",
       "      <td>False</td>\n",
       "      <td>False</td>\n",
       "      <td>False</td>\n",
       "      <td>False</td>\n",
       "      <td>False</td>\n",
       "      <td>False</td>\n",
       "      <td>False</td>\n",
       "      <td>...</td>\n",
       "      <td>False</td>\n",
       "      <td>False</td>\n",
       "      <td>False</td>\n",
       "      <td>False</td>\n",
       "      <td>False</td>\n",
       "      <td>False</td>\n",
       "      <td>False</td>\n",
       "      <td>False</td>\n",
       "      <td>False</td>\n",
       "      <td>77</td>\n",
       "    </tr>\n",
       "    <tr>\n",
       "      <th>5</th>\n",
       "      <td>False</td>\n",
       "      <td>False</td>\n",
       "      <td>False</td>\n",
       "      <td>False</td>\n",
       "      <td>False</td>\n",
       "      <td>False</td>\n",
       "      <td>False</td>\n",
       "      <td>False</td>\n",
       "      <td>False</td>\n",
       "      <td>False</td>\n",
       "      <td>...</td>\n",
       "      <td>False</td>\n",
       "      <td>False</td>\n",
       "      <td>False</td>\n",
       "      <td>False</td>\n",
       "      <td>False</td>\n",
       "      <td>False</td>\n",
       "      <td>False</td>\n",
       "      <td>False</td>\n",
       "      <td>False</td>\n",
       "      <td>68</td>\n",
       "    </tr>\n",
       "    <tr>\n",
       "      <th>6</th>\n",
       "      <td>False</td>\n",
       "      <td>False</td>\n",
       "      <td>False</td>\n",
       "      <td>False</td>\n",
       "      <td>False</td>\n",
       "      <td>False</td>\n",
       "      <td>False</td>\n",
       "      <td>False</td>\n",
       "      <td>False</td>\n",
       "      <td>False</td>\n",
       "      <td>...</td>\n",
       "      <td>False</td>\n",
       "      <td>False</td>\n",
       "      <td>False</td>\n",
       "      <td>False</td>\n",
       "      <td>False</td>\n",
       "      <td>False</td>\n",
       "      <td>False</td>\n",
       "      <td>False</td>\n",
       "      <td>False</td>\n",
       "      <td>91</td>\n",
       "    </tr>\n",
       "  </tbody>\n",
       "</table>\n",
       "<p>5 rows × 144 columns</p>\n",
       "</div>"
      ],
      "text/plain": [
       "   cc_addictionproblem  cc_agitation  cc_alcoholproblem  cc_anxiety  \\\n",
       "2                False         False              False       False   \n",
       "3                False         False              False       False   \n",
       "4                False         False              False       False   \n",
       "5                False         False              False       False   \n",
       "6                False         False              False       False   \n",
       "\n",
       "   cc_depression  cc_detoxevaluation  cc_hallucinations  cc_homicidal  \\\n",
       "2          False               False              False         False   \n",
       "3          False               False              False         False   \n",
       "4          False               False              False         False   \n",
       "5          False               False              False         False   \n",
       "6          False               False              False         False   \n",
       "\n",
       "   cc_panicattack  cc_psychoticsymptoms  ...  cc_constipation  cc_diarrhea  \\\n",
       "2           False                 False  ...            False        False   \n",
       "3           False                 False  ...            False        False   \n",
       "4           False                 False  ...            False        False   \n",
       "5           False                 False  ...            False        False   \n",
       "6           False                 False  ...            False        False   \n",
       "\n",
       "   cc_epigastricpain  cc_hematuria  cc_hemoptysis  cc_nausea  cc_flankpain  \\\n",
       "2              False         False          False      False         False   \n",
       "3              False         False          False      False         False   \n",
       "4              False         False          False      False         False   \n",
       "5              False         False          False      False         False   \n",
       "6              False         False          False      False         False   \n",
       "\n",
       "   cc_rectalbleeding  cc_rectalpain  result  \n",
       "2              False          False      68  \n",
       "3              False          False      71  \n",
       "4              False          False      77  \n",
       "5              False          False      68  \n",
       "6              False          False      91  \n",
       "\n",
       "[5 rows x 144 columns]"
      ]
     },
     "execution_count": 7,
     "metadata": {},
     "output_type": "execute_result"
    }
   ],
   "source": [
    "datasetTemp = datasetBoolean.copy()\n",
    "\n",
    "for column in datasetTemp.columns:\n",
    "    if column in priorization['Name'].values:\n",
    "        priority_value = priorization.loc[priorization['Name'] == column, 'Priority'].iloc[0]\n",
    "        # Replace values in df2 with priority values if not equal to 0\n",
    "        datasetTemp[column] = datasetTemp[column].apply(lambda x: priority_value if x != False else 0)\n",
    "\n",
    "# Create a new column with the sum of columns present in priorization['Name']\n",
    "datasetTemp['result'] = datasetTemp[priorization['Name']].sum(axis=1)\n",
    "\n",
    "finalDataset = pd.concat([datasetBoolean, datasetTemp['result']], axis=1)\n",
    "finalDataset.head()"
   ]
  },
  {
   "cell_type": "code",
   "execution_count": 8,
   "id": "b5781d4c-8d21-47da-af75-225bd953a17d",
   "metadata": {},
   "outputs": [],
   "source": [
    "# Calculate the first quartile (Q1) and third quartile (Q3)\n",
    "lowerQ = finalDataset['result'].quantile(0.15)\n",
    "upperQ = finalDataset['result'].quantile(0.85)\n",
    "\n",
    "# Calculate the Interquartile Range (IQR)\n",
    "IQR = upperQ - lowerQ\n",
    "\n",
    "# Define the lower and upper bounds\n",
    "lower_bound = lowerQ - 1.5 * IQR\n",
    "upper_bound = upperQ + 1.5 * IQR\n",
    "\n",
    "prunedDataset = finalDataset[(finalDataset['result'] >= lower_bound) & (finalDataset['result'] <= upper_bound)]"
   ]
  },
  {
   "cell_type": "code",
   "execution_count": 9,
   "id": "89a794c6-8f7e-4da7-ab84-67a89e620a6f",
   "metadata": {},
   "outputs": [],
   "source": [
    "# finalDataset.to_csv('modified_dataframe.csv', index=False)"
   ]
  },
  {
   "cell_type": "code",
   "execution_count": 10,
   "id": "248734aa-9f9b-421a-ac3d-95039b007c9a",
   "metadata": {},
   "outputs": [],
   "source": [
    "X = prunedDataset.drop(columns=['result'])\n",
    "y = prunedDataset['result']"
   ]
  },
  {
   "cell_type": "code",
   "execution_count": 11,
   "id": "96d29b81-9e82-4293-bbfc-6646685cbf13",
   "metadata": {},
   "outputs": [],
   "source": [
    "random_state = 0 \n",
    "test_size = 0.2\n",
    "train_size = 0.8\n",
    "\n",
    "X_train, X_test, y_train, y_test = train_test_split(X, y, test_size=test_size, train_size=train_size, random_state=random_state)"
   ]
  },
  {
   "cell_type": "code",
   "execution_count": 12,
   "id": "0ef6f030-b9eb-4357-bf84-9ef9e35c2aa3",
   "metadata": {},
   "outputs": [
    {
     "data": {
      "image/png": "[encoded data removed]",
      "text/plain": [
       "<Figure size 800x600 with 1 Axes>"
      ]
     },
     "metadata": {},
     "output_type": "display_data"
    }
   ],
   "source": [
    "# Encode Categoric Variables\n",
    "# df_encoded = pd.get_dummies(df_witout_nunique)\n",
    "\n",
    "# Handling Null values\n",
    "# imputer = SimpleImputer(strategy='most_frequent')\n",
    "# df_without_null = imputer.fit_transform(df_witout_nunique)\n",
    "\n",
    "# Create DataFrame With Encoded Labels and Characteristics\n",
    "df_plot = X.copy()\n",
    "df_plot['emergency_flag'] = y\n",
    "\n",
    "# Plot Class Distribution\n",
    "plt.figure(figsize=(8, 6))\n",
    "sns.countplot(x='emergency_flag', data=df_plot)\n",
    "plt.title('Distribución de Clases')\n",
    "plt.xlabel('Clase')\n",
    "plt.ylabel('Conteo')\n",
    "plt.show()"
   ]
  },
  {
   "cell_type": "code",
   "execution_count": 13,
   "id": "a154e686-1223-4a05-918c-e82b71cae482",
   "metadata": {},
   "outputs": [
    {
     "data": {
      "text/html": [
       "<style>#sk-container-id-1 {color: black;background-color: white;}#sk-container-id-1 pre{padding: 0;}#sk-container-id-1 div.sk-toggleable {background-color: white;}#sk-container-id-1 label.sk-toggleable__label {cursor: pointer;display: block;width: 100%;margin-bottom: 0;padding: 0.3em;box-sizing: border-box;text-align: center;}#sk-container-id-1 label.sk-toggleable__label-arrow:before {content: \"▸\";float: left;margin-right: 0.25em;color: #696969;}#sk-container-id-1 label.sk-toggleable__label-arrow:hover:before {color: black;}#sk-container-id-1 div.sk-estimator:hover label.sk-toggleable__label-arrow:before {color: black;}#sk-container-id-1 div.sk-toggleable__content {max-height: 0;max-width: 0;overflow: hidden;text-align: left;background-color: #f0f8ff;}#sk-container-id-1 div.sk-toggleable__content pre {margin: 0.2em;color: black;border-radius: 0.25em;background-color: #f0f8ff;}#sk-container-id-1 input.sk-toggleable__control:checked~div.sk-toggleable__content {max-height: 200px;max-width: 100%;overflow: auto;}#sk-container-id-1 input.sk-toggleable__control:checked~label.sk-toggleable__label-arrow:before {content: \"▾\";}#sk-container-id-1 div.sk-estimator input.sk-toggleable__control:checked~label.sk-toggleable__label {background-color: #d4ebff;}#sk-container-id-1 div.sk-label input.sk-toggleable__control:checked~label.sk-toggleable__label {background-color: #d4ebff;}#sk-container-id-1 input.sk-hidden--visually {border: 0;clip: rect(1px 1px 1px 1px);clip: rect(1px, 1px, 1px, 1px);height: 1px;margin: -1px;overflow: hidden;padding: 0;position: absolute;width: 1px;}#sk-container-id-1 div.sk-estimator {font-family: monospace;background-color: #f0f8ff;border: 1px dotted black;border-radius: 0.25em;box-sizing: border-box;margin-bottom: 0.5em;}#sk-container-id-1 div.sk-estimator:hover {background-color: #d4ebff;}#sk-container-id-1 div.sk-parallel-item::after {content: \"\";width: 100%;border-bottom: 1px solid gray;flex-grow: 1;}#sk-container-id-1 div.sk-label:hover label.sk-toggleable__label {background-color: #d4ebff;}#sk-container-id-1 div.sk-serial::before {content: \"\";position: absolute;border-left: 1px solid gray;box-sizing: border-box;top: 0;bottom: 0;left: 50%;z-index: 0;}#sk-container-id-1 div.sk-serial {display: flex;flex-direction: column;align-items: center;background-color: white;padding-right: 0.2em;padding-left: 0.2em;position: relative;}#sk-container-id-1 div.sk-item {position: relative;z-index: 1;}#sk-container-id-1 div.sk-parallel {display: flex;align-items: stretch;justify-content: center;background-color: white;position: relative;}#sk-container-id-1 div.sk-item::before, #sk-container-id-1 div.sk-parallel-item::before {content: \"\";position: absolute;border-left: 1px solid gray;box-sizing: border-box;top: 0;bottom: 0;left: 50%;z-index: -1;}#sk-container-id-1 div.sk-parallel-item {display: flex;flex-direction: column;z-index: 1;position: relative;background-color: white;}#sk-container-id-1 div.sk-parallel-item:first-child::after {align-self: flex-end;width: 50%;}#sk-container-id-1 div.sk-parallel-item:last-child::after {align-self: flex-start;width: 50%;}#sk-container-id-1 div.sk-parallel-item:only-child::after {width: 0;}#sk-container-id-1 div.sk-dashed-wrapped {border: 1px dashed gray;margin: 0 0.4em 0.5em 0.4em;box-sizing: border-box;padding-bottom: 0.4em;background-color: white;}#sk-container-id-1 div.sk-label label {font-family: monospace;font-weight: bold;display: inline-block;line-height: 1.2em;}#sk-container-id-1 div.sk-label-container {text-align: center;}#sk-container-id-1 div.sk-container {/* jupyter's `normalize.less` sets `[hidden] { display: none; }` but bootstrap.min.css set `[hidden] { display: none !important; }` so we also need the `!important` here to be able to override the default hidden behavior on the sphinx rendered scikit-learn.org. See: https://github.com/scikit-learn/scikit-learn/issues/21755 */display: inline-block !important;position: relative;}#sk-container-id-1 div.sk-text-repr-fallback {display: none;}</style><div id=\"sk-container-id-1\" class=\"sk-top-container\"><div class=\"sk-text-repr-fallback\"><pre>RandomForestClassifier(random_state=0)</pre><b>In a Jupyter environment, please rerun this cell to show the HTML representation or trust the notebook. <br />On GitHub, the HTML representation is unable to render, please try loading this page with nbviewer.org.</b></div><div class=\"sk-container\" hidden><div class=\"sk-item\"><div class=\"sk-estimator sk-toggleable\"><input class=\"sk-toggleable__control sk-hidden--visually\" id=\"sk-estimator-id-1\" type=\"checkbox\" checked><label for=\"sk-estimator-id-1\" class=\"sk-toggleable__label sk-toggleable__label-arrow\">RandomForestClassifier</label><div class=\"sk-toggleable__content\"><pre>RandomForestClassifier(random_state=0)</pre></div></div></div></div></div>"
      ],
      "text/plain": [
       "RandomForestClassifier(random_state=0)"
      ]
     },
     "execution_count": 13,
     "metadata": {},
     "output_type": "execute_result"
    }
   ],
   "source": [
    "from sklearn.ensemble import RandomForestClassifier\n",
    "\n",
    "# Train the Model\n",
    "model = RandomForestClassifier(n_estimators=100, random_state=random_state)\n",
    "model.fit(X_train, y_train)"
   ]
  },
  {
   "cell_type": "code",
   "execution_count": 14,
   "id": "557a143f-367d-4447-826b-5af85a76aa83",
   "metadata": {},
   "outputs": [],
   "source": [
    "from sklearn.metrics import accuracy_score, confusion_matrix\n",
    "\n",
    "# Validating the Model\n",
    "y_pred = model.predict(X_test)\n",
    "accuracy = accuracy_score(y_test, y_pred)\n",
    "\n",
    "# Get Confusion Matrix\n",
    "confusion = confusion_matrix(y_test, y_pred)\n",
    "TP = confusion[1, 1]\n",
    "FP = confusion[0, 1]\n",
    "TN = confusion[0, 0]\n",
    "FN = confusion[1, 0]"
   ]
  },
  {
   "cell_type": "code",
   "execution_count": 15,
   "id": "0d29ba43-7f53-49d0-a733-5e7c694ef265",
   "metadata": {},
   "outputs": [
    {
     "data": {
      "text/plain": [
       "0.9968092750234433"
      ]
     },
     "execution_count": 15,
     "metadata": {},
     "output_type": "execute_result"
    }
   ],
   "source": [
    "# Accuracy is the proportion of correctly classified samples out of the total number of samples:\n",
    "accuracy"
   ]
  },
  {
   "cell_type": "code",
   "execution_count": 16,
   "id": "c26c8998-792f-4b52-9645-9641998a5d30",
   "metadata": {},
   "outputs": [
    {
     "data": {
      "text/plain": [
       "80"
      ]
     },
     "execution_count": 16,
     "metadata": {},
     "output_type": "execute_result"
    }
   ],
   "source": [
    "# This represents the count of true positive predictions, where the model correctly predicts positive instances:\n",
    "TP"
   ]
  },
  {
   "cell_type": "code",
   "execution_count": 17,
   "id": "3b7f22aa-53a0-4312-abe3-a9fb8fbc853a",
   "metadata": {},
   "outputs": [
    {
     "data": {
      "text/plain": [
       "0"
      ]
     },
     "execution_count": 17,
     "metadata": {},
     "output_type": "execute_result"
    }
   ],
   "source": [
    "# This represents the count of false positive predictions, where the model incorrectly predicts positive instances:\n",
    "FP"
   ]
  },
  {
   "cell_type": "code",
   "execution_count": 18,
   "id": "a8c39c41-3064-4a67-a4c2-1b457c08d418",
   "metadata": {},
   "outputs": [
    {
     "data": {
      "text/plain": [
       "101"
      ]
     },
     "execution_count": 18,
     "metadata": {},
     "output_type": "execute_result"
    }
   ],
   "source": [
    "# This represents the count of true negative predictions, where the model correctly predicts negative instances:\n",
    "TN"
   ]
  },
  {
   "cell_type": "code",
   "execution_count": 19,
   "id": "66374dda-44c8-42ee-b318-31f803b5c009",
   "metadata": {},
   "outputs": [
    {
     "data": {
      "text/plain": [
       "0"
      ]
     },
     "execution_count": 19,
     "metadata": {},
     "output_type": "execute_result"
    }
   ],
   "source": [
    "# This represents the count of false negative predictions, where the model incorrectly predicts negative instances: \n",
    "FN"
   ]
  },
  {
   "cell_type": "code",
   "execution_count": 20,
   "id": "d902624a-964a-4ef1-85ba-e7b54ad18a76",
   "metadata": {},
   "outputs": [
    {
     "data": {
      "text/plain": [
       "1.0"
      ]
     },
     "execution_count": 20,
     "metadata": {},
     "output_type": "execute_result"
    }
   ],
   "source": [
    "# Precision: Precision measures the accuracy of the positive predictions. It is the ratio of correctly predicted positive observations to the total predicted positives. Precision = TP / (TP + FP).\n",
    "precision = TP / (TP + FP)\n",
    "precision"
   ]
  },
  {
   "cell_type": "code",
   "execution_count": 21,
   "id": "b274c3d9-ed68-4459-ab3c-de28e1b477f4",
   "metadata": {},
   "outputs": [
    {
     "data": {
      "text/plain": [
       "1.0"
      ]
     },
     "execution_count": 21,
     "metadata": {},
     "output_type": "execute_result"
    }
   ],
   "source": [
    "# Recall (Sensitivity): Recall measures the proportion of actual positive cases that were correctly identified by the model. It is the ratio of correctly predicted positive observations to the all observations in actual class. Recall = TP / (TP + FN).\n",
    "recall = TP / (TP + FN)\n",
    "recall"
   ]
  },
  {
   "cell_type": "code",
   "execution_count": 22,
   "id": "7d16c650-a628-477e-8eee-525455afa9ac",
   "metadata": {},
   "outputs": [
    {
     "data": {
      "text/plain": [
       "1.0"
      ]
     },
     "execution_count": 22,
     "metadata": {},
     "output_type": "execute_result"
    }
   ],
   "source": [
    "# F1 Score: The F1 score is the harmonic mean of precision and recall. It provides a balance between precision and recall. F1 Score = 2 * (Precision * Recall) / (Precision + Recall).\n",
    "F1 = 2 * (precision * recall) / (precision + recall)\n",
    "F1"
   ]
  },
  {
   "cell_type": "code",
   "execution_count": 23,
   "id": "2a124a8e-e01b-4c5b-8eb2-4ea650c204cf",
   "metadata": {},
   "outputs": [
    {
     "data": {
      "text/plain": [
       "1.0"
      ]
     },
     "execution_count": 23,
     "metadata": {},
     "output_type": "execute_result"
    }
   ],
   "source": [
    "# Specificity: Specificity measures the proportion of actual negative cases that were correctly identified by the model. Specificity = TN / (TN + FP).\n",
    "specificity = TN / (TN + FP)\n",
    "specificity"
   ]
  },
  {
   "cell_type": "code",
   "execution_count": 24,
   "id": "c694c7c4-7227-43c1-a74e-432cc94a254f",
   "metadata": {},
   "outputs": [
    {
     "data": {
      "text/plain": [
       "0.0"
      ]
     },
     "execution_count": 24,
     "metadata": {},
     "output_type": "execute_result"
    }
   ],
   "source": [
    "# False Positive Rate (FPR): FPR measures the proportion of actual negative cases that were incorrectly classified as positive. FPR = FP / (FP + TN).\n",
    "FPR = FP / (FP + TN)\n",
    "FPR"
   ]
  },
  {
   "cell_type": "code",
   "execution_count": 25,
   "id": "4f5b02fd-a07f-438f-96fb-cb05852aa363",
   "metadata": {},
   "outputs": [
    {
     "data": {
      "text/html": [
       "<div>\n",
       "<style scoped>\n",
       "    .dataframe tbody tr th:only-of-type {\n",
       "        vertical-align: middle;\n",
       "    }\n",
       "\n",
       "    .dataframe tbody tr th {\n",
       "        vertical-align: top;\n",
       "    }\n",
       "\n",
       "    .dataframe thead th {\n",
       "        text-align: right;\n",
       "    }\n",
       "</style>\n",
       "<table border=\"1\" class=\"dataframe\">\n",
       "  <thead>\n",
       "    <tr style=\"text-align: right;\">\n",
       "      <th></th>\n",
       "      <th>cc_addictionproblem</th>\n",
       "      <th>cc_agitation</th>\n",
       "      <th>cc_alcoholproblem</th>\n",
       "      <th>cc_anxiety</th>\n",
       "      <th>cc_depression</th>\n",
       "      <th>cc_detoxevaluation</th>\n",
       "      <th>cc_hallucinations</th>\n",
       "      <th>cc_homicidal</th>\n",
       "      <th>cc_panicattack</th>\n",
       "      <th>cc_psychoticsymptoms</th>\n",
       "      <th>...</th>\n",
       "      <th>cc_abdominalpainpregnant</th>\n",
       "      <th>cc_constipation</th>\n",
       "      <th>cc_diarrhea</th>\n",
       "      <th>cc_epigastricpain</th>\n",
       "      <th>cc_hematuria</th>\n",
       "      <th>cc_hemoptysis</th>\n",
       "      <th>cc_nausea</th>\n",
       "      <th>cc_flankpain</th>\n",
       "      <th>cc_rectalbleeding</th>\n",
       "      <th>cc_rectalpain</th>\n",
       "    </tr>\n",
       "  </thead>\n",
       "  <tbody>\n",
       "    <tr>\n",
       "      <th>0</th>\n",
       "      <td>False</td>\n",
       "      <td>False</td>\n",
       "      <td>False</td>\n",
       "      <td>False</td>\n",
       "      <td>True</td>\n",
       "      <td>False</td>\n",
       "      <td>True</td>\n",
       "      <td>False</td>\n",
       "      <td>False</td>\n",
       "      <td>False</td>\n",
       "      <td>...</td>\n",
       "      <td>False</td>\n",
       "      <td>False</td>\n",
       "      <td>False</td>\n",
       "      <td>False</td>\n",
       "      <td>False</td>\n",
       "      <td>False</td>\n",
       "      <td>False</td>\n",
       "      <td>False</td>\n",
       "      <td>False</td>\n",
       "      <td>False</td>\n",
       "    </tr>\n",
       "    <tr>\n",
       "      <th>1</th>\n",
       "      <td>False</td>\n",
       "      <td>False</td>\n",
       "      <td>False</td>\n",
       "      <td>False</td>\n",
       "      <td>False</td>\n",
       "      <td>False</td>\n",
       "      <td>False</td>\n",
       "      <td>False</td>\n",
       "      <td>False</td>\n",
       "      <td>False</td>\n",
       "      <td>...</td>\n",
       "      <td>False</td>\n",
       "      <td>False</td>\n",
       "      <td>False</td>\n",
       "      <td>False</td>\n",
       "      <td>False</td>\n",
       "      <td>False</td>\n",
       "      <td>False</td>\n",
       "      <td>False</td>\n",
       "      <td>False</td>\n",
       "      <td>False</td>\n",
       "    </tr>\n",
       "    <tr>\n",
       "      <th>2</th>\n",
       "      <td>False</td>\n",
       "      <td>False</td>\n",
       "      <td>False</td>\n",
       "      <td>False</td>\n",
       "      <td>False</td>\n",
       "      <td>False</td>\n",
       "      <td>False</td>\n",
       "      <td>False</td>\n",
       "      <td>False</td>\n",
       "      <td>False</td>\n",
       "      <td>...</td>\n",
       "      <td>False</td>\n",
       "      <td>False</td>\n",
       "      <td>False</td>\n",
       "      <td>False</td>\n",
       "      <td>False</td>\n",
       "      <td>False</td>\n",
       "      <td>False</td>\n",
       "      <td>False</td>\n",
       "      <td>False</td>\n",
       "      <td>False</td>\n",
       "    </tr>\n",
       "    <tr>\n",
       "      <th>3</th>\n",
       "      <td>False</td>\n",
       "      <td>False</td>\n",
       "      <td>False</td>\n",
       "      <td>False</td>\n",
       "      <td>False</td>\n",
       "      <td>False</td>\n",
       "      <td>False</td>\n",
       "      <td>False</td>\n",
       "      <td>False</td>\n",
       "      <td>False</td>\n",
       "      <td>...</td>\n",
       "      <td>False</td>\n",
       "      <td>False</td>\n",
       "      <td>False</td>\n",
       "      <td>False</td>\n",
       "      <td>False</td>\n",
       "      <td>False</td>\n",
       "      <td>False</td>\n",
       "      <td>False</td>\n",
       "      <td>False</td>\n",
       "      <td>False</td>\n",
       "    </tr>\n",
       "    <tr>\n",
       "      <th>4</th>\n",
       "      <td>False</td>\n",
       "      <td>False</td>\n",
       "      <td>False</td>\n",
       "      <td>False</td>\n",
       "      <td>False</td>\n",
       "      <td>False</td>\n",
       "      <td>False</td>\n",
       "      <td>False</td>\n",
       "      <td>False</td>\n",
       "      <td>False</td>\n",
       "      <td>...</td>\n",
       "      <td>False</td>\n",
       "      <td>False</td>\n",
       "      <td>False</td>\n",
       "      <td>False</td>\n",
       "      <td>False</td>\n",
       "      <td>False</td>\n",
       "      <td>False</td>\n",
       "      <td>False</td>\n",
       "      <td>False</td>\n",
       "      <td>False</td>\n",
       "    </tr>\n",
       "  </tbody>\n",
       "</table>\n",
       "<p>5 rows × 143 columns</p>\n",
       "</div>"
      ],
      "text/plain": [
       "   cc_addictionproblem  cc_agitation  cc_alcoholproblem  cc_anxiety  \\\n",
       "0                False         False              False       False   \n",
       "1                False         False              False       False   \n",
       "2                False         False              False       False   \n",
       "3                False         False              False       False   \n",
       "4                False         False              False       False   \n",
       "\n",
       "   cc_depression  cc_detoxevaluation  cc_hallucinations  cc_homicidal  \\\n",
       "0           True               False               True         False   \n",
       "1          False               False              False         False   \n",
       "2          False               False              False         False   \n",
       "3          False               False              False         False   \n",
       "4          False               False              False         False   \n",
       "\n",
       "   cc_panicattack  cc_psychoticsymptoms  ...  cc_abdominalpainpregnant  \\\n",
       "0           False                 False  ...                     False   \n",
       "1           False                 False  ...                     False   \n",
       "2           False                 False  ...                     False   \n",
       "3           False                 False  ...                     False   \n",
       "4           False                 False  ...                     False   \n",
       "\n",
       "   cc_constipation  cc_diarrhea  cc_epigastricpain  cc_hematuria  \\\n",
       "0            False        False              False         False   \n",
       "1            False        False              False         False   \n",
       "2            False        False              False         False   \n",
       "3            False        False              False         False   \n",
       "4            False        False              False         False   \n",
       "\n",
       "   cc_hemoptysis  cc_nausea  cc_flankpain  cc_rectalbleeding  cc_rectalpain  \n",
       "0          False      False         False              False          False  \n",
       "1          False      False         False              False          False  \n",
       "2          False      False         False              False          False  \n",
       "3          False      False         False              False          False  \n",
       "4          False      False         False              False          False  \n",
       "\n",
       "[5 rows x 143 columns]"
      ]
     },
     "execution_count": 25,
     "metadata": {},
     "output_type": "execute_result"
    }
   ],
   "source": [
    "# The input file shows a example of the cases that a receptionist could have\n",
    "input = pd.read_csv(\"inputDataframe.csv\")\n",
    "input.head()"
   ]
  },
  {
   "cell_type": "code",
   "execution_count": 26,
   "id": "2e0e0f00-c318-4469-b2ee-b14fb4ea9697",
   "metadata": {},
   "outputs": [
    {
     "name": "stdout",
     "output_type": "stream",
     "text": [
      "0: cc_depression, cc_hallucinations, cc_abscess, cc_alcoholintoxication\n",
      "1: cc_lethargy, cc_lossofconsciousness, cc_ribinjury\n",
      "2: cc_drugproblem, cc_fall, cc_fatigue, cc_headinjury\n",
      "3: cc_bodyfluidexposure, cc_burn, cc_cellulitis, cc_skinproblem, cc_woundcheck, cc_woundinfection\n",
      "4: cc_urinaryretention, cc_urinarytractinfection, cc_earpain, cc_earproblem, cc_eyeproblem\n"
     ]
    }
   ],
   "source": [
    "for index, row in input.iterrows():\n",
    "    # Extract column names where value is True\n",
    "    true_columns = input.columns[row].tolist()\n",
    "    # Print the result\n",
    "    print(f\"{index}: {', '.join(true_columns)}\")"
   ]
  },
  {
   "cell_type": "code",
   "execution_count": 27,
   "id": "834f8497-d370-46d8-a57e-c52d06389a5b",
   "metadata": {},
   "outputs": [
    {
     "data": {
      "text/plain": [
       "array([136,  79, 140, 107,  89])"
      ]
     },
     "execution_count": 27,
     "metadata": {},
     "output_type": "execute_result"
    }
   ],
   "source": [
    "result = model.predict(input)\n",
    "\n",
    "result"
   ]
  },
  {
   "cell_type": "code",
   "execution_count": 28,
   "id": "a1c7a0d5-474d-4ad2-b467-a262a865567d",
   "metadata": {},
   "outputs": [
    {
     "name": "stdout",
     "output_type": "stream",
     "text": [
      "2: cc_drugproblem, cc_fall, cc_fatigue, cc_headinjury\n",
      "0: cc_depression, cc_hallucinations, cc_abscess, cc_alcoholintoxication\n",
      "3: cc_bodyfluidexposure, cc_burn, cc_cellulitis, cc_skinproblem, cc_woundcheck, cc_woundinfection\n",
      "4: cc_urinaryretention, cc_urinarytractinfection, cc_earpain, cc_earproblem, cc_eyeproblem\n",
      "1: cc_lethargy, cc_lossofconsciousness, cc_ribinjury\n"
     ]
    }
   ],
   "source": [
    "# We add the result to the patients\n",
    "input['result'] = result\n",
    "\n",
    "# Sort the patients for priority \n",
    "ordered_df = input.sort_values(by='result', ascending=False)\n",
    "\n",
    "# Remove again result to have a dataframe with only booleans\n",
    "ordered_df = ordered_df.drop(columns=['result'])\n",
    "\n",
    "for index, row in ordered_df.iterrows():\n",
    "    # Extract column names where value is True\n",
    "    true_columns = ordered_df.columns[row].tolist()\n",
    "    # Print the result\n",
    "    print(f\"{index}: {', '.join(true_columns)}\")"
   ]
  }
 ],
 "metadata": {
  "kernelspec": {
   "display_name": "Python 3 (ipykernel)",
   "language": "python",
   "name": "python3"
  },
  "language_info": {
   "codemirror_mode": {
    "name": "ipython",
    "version": 3
   },
   "file_extension": ".py",
   "mimetype": "text/x-python",
   "name": "python",
   "nbconvert_exporter": "python",
   "pygments_lexer": "ipython3",
   "version": "3.11.7"
  }
 },
 "nbformat": 4,
 "nbformat_minor": 5
}
